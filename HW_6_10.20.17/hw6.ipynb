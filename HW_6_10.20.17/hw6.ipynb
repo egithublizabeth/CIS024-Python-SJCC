{
 "cells": [
  {
   "cell_type": "markdown",
   "metadata": {},
   "source": [
    "\n",
    "# CIS024C - Fall 2017 - Thursday 5:30-9:25pm \n",
    "\n",
    "## Homework 6\n",
    "\n",
    "Homework 6 covers exercises that involve working with functions\n",
    "\n",
    "The below sites have some interesting and useful information on working with files\n",
    "\n",
    "https://www.learnpython.org/en/Functions\n",
    "https://www.tutorialspoint.com/python/python_functions.htm\n",
    "\n",
    "You will need to download this notebook and use this as a starting point for your homework. You will just need to fill in the content of each code-block (cell) and execute. Once you have completed all the exercises, you will need to save and upload this to your github repository under a folder called hw5.\n",
    "\n",
    "Note also the exercises build on top of one another so you might be able to do the next exercise if you have not completed the previous exercise.\n",
    "\n",
    "Post any questions you have on our Slack at **cis-024c1.slack.com**\n",
    "\n",
    "** Slides ** for Week 6 can be found at \n",
    "\n",
    "https://docs.google.com/presentation/d/1XGV2NR0ZAAmQYjlRuy81zzlW2g5lWS8L6a7iRV-lreQ/edit?usp=sharing\n",
    "\n",
    "**Please refer back to hw1 and slack for instructions on how to setup your computer for developing using Python.**"
   ]
  },
  {
   "cell_type": "markdown",
   "metadata": {},
   "source": [
    "### Helpful Jupyter Commands\n",
    "\n",
    "Below are some useful commands to know when using Jupyter\n",
    "\n",
    "1. You can add a new cell by clicking on the \"+\" icon on top.\n",
    "2. You can delete a cell by selecting that cell and clicking on the \"scissors\" icon on top.\n",
    "3. You can execute a cell by either pressing shift+enter or selecting the \"play\" button on top.\n",
    "4. You can create a new file in Jupyter via the File menu->New Notebook option. Make sure to select Python 2 when creating your notebook.\n",
    "5. Also, for your code blocks make sure that Code is selected instead of another option like Markdown.\n",
    "6. Use the Enter key to go to the next line in a cell to enter the next statement.\n",
    "7. You can clear results by clicking on the Cell menu item and selecting Current Output->Clear or All Output->Clear depending on whether you are trying to just clear the output for one cell or for all cells.\n",
    "8. In case your program has crashed for some reason (infinite loop, for example), you can restart your Python session by select Kernel in the menu and selecting Restart.\n"
   ]
  },
  {
   "cell_type": "markdown",
   "metadata": {},
   "source": [
    "#### Check Python Version"
   ]
  },
  {
   "cell_type": "code",
   "execution_count": 1,
   "metadata": {},
   "outputs": [
    {
     "name": "stdout",
     "output_type": "stream",
     "text": [
      "Python 3.6.2 :: Anaconda custom (x86_64)\r\n"
     ]
    }
   ],
   "source": [
    "!python --version"
   ]
  },
  {
   "cell_type": "markdown",
   "metadata": {},
   "source": [
    "#### Sample Exercises with Functions\n",
    "\n",
    "Refer to Week 6 slides for a recap of what happened in Week 6\n",
    "\n",
    "https://docs.google.com/presentation/d/1XGV2NR0ZAAmQYjlRuy81zzlW2g5lWS8L6a7iRV-lreQ/edit?usp=sharing"
   ]
  },
  {
   "cell_type": "markdown",
   "metadata": {},
   "source": [
    "**Exercise 1 - Testing your knowledge of functions **\n",
    "\n",
    "Answer the below questions\n",
    "\n",
    "1. What is a function in Python?\n",
    "2. What are the advantages of using functions?"
   ]
  },
  {
   "cell_type": "markdown",
   "metadata": {},
   "source": [
    "1) Functions are a block of resuable code, can be executed by invoking the function when required, and can accept input parameters and return output parameters.\n",
    "\n",
    "2) Advantges of using functions: Reducing duplication code and decomposing complex problems into simpler pieces."
   ]
  },
  {
   "cell_type": "markdown",
   "metadata": {},
   "source": [
    "#### Exercise 2 -  Max of three numbers\n",
    "\n",
    "Write a Python function to find the Max of three numbers.\n",
    "\n",
    "Make sure you invoke this function in your main program and display the result"
   ]
  },
  {
   "cell_type": "code",
   "execution_count": 2,
   "metadata": {},
   "outputs": [
    {
     "name": "stdout",
     "output_type": "stream",
     "text": [
      "88\n"
     ]
    }
   ],
   "source": [
    "def numbers(x,y,z):\n",
    "    \n",
    "    bigNumber = max(x,y,z)\n",
    "    \n",
    "    return bigNumber\n",
    "\n",
    "print(numbers(25, 88, 12))\n",
    "\n",
    "### END CODE"
   ]
  },
  {
   "cell_type": "markdown",
   "metadata": {},
   "source": [
    "#### Exercise 3 - Finding the sum of numbers in a list\n",
    "\n",
    "Write a Python function to sum all the numbers in a list\n",
    "\n",
    "Make sure you invoke this function in your main program and display the result"
   ]
  },
  {
   "cell_type": "code",
   "execution_count": 3,
   "metadata": {},
   "outputs": [
    {
     "name": "stdout",
     "output_type": "stream",
     "text": [
      "10\n"
     ]
    }
   ],
   "source": [
    "myList = [1,2,3,4]\n",
    "\n",
    "def sumList(myList):\n",
    "    \n",
    "    allSum = sum(myList)\n",
    "    \n",
    "    return allSum\n",
    "\n",
    "print(sumList(myList))\n",
    "\n",
    "### END CODE"
   ]
  },
  {
   "cell_type": "markdown",
   "metadata": {},
   "source": [
    "#### Exercise 4 - Finding the product of numbers in a list\n",
    "\n",
    "Write a Python function to multiply all the numbers in a list\n",
    "\n",
    "Make sure you invoke this function in your main program and display the result"
   ]
  },
  {
   "cell_type": "code",
   "execution_count": 4,
   "metadata": {},
   "outputs": [
    {
     "name": "stdout",
     "output_type": "stream",
     "text": [
      "24\n"
     ]
    }
   ],
   "source": [
    "myList = [1,2,3,4]\n",
    "\n",
    "def multi(myList):\n",
    "    \n",
    "    result = myList[0] * myList[1] * myList[2] * myList[3]\n",
    "    \n",
    "    return result\n",
    "\n",
    "print(multi(myList))\n",
    "\n",
    "### END CODE"
   ]
  },
  {
   "cell_type": "markdown",
   "metadata": {},
   "source": [
    "#### Exercise 5 - Reversing a String\n",
    "\n",
    "Write a Python function to reverse a string\n",
    "\n",
    "Make sure you invoke this function in your main program and display the result"
   ]
  },
  {
   "cell_type": "code",
   "execution_count": 5,
   "metadata": {},
   "outputs": [
    {
     "name": "stdout",
     "output_type": "stream",
     "text": [
      "rettoP yrraH\n"
     ]
    }
   ],
   "source": [
    "line = \"Harry Potter\"\n",
    "\n",
    "def revy(line):\n",
    "    \n",
    "    reverseFlash = line[::-1]\n",
    "\n",
    "    return reverseFlash\n",
    "\n",
    "print(revy(line))\n",
    "\n",
    "### END CODE"
   ]
  },
  {
   "cell_type": "markdown",
   "metadata": {},
   "source": [
    "## OPTIONAL EXERCISES\n",
    "\n",
    "Below is a set of optional exercises. These will not be graded but the solutions will be posted. I would strongly encourage you to try these out if you are done with the mandatory homework exercises to improve your understanding of python."
   ]
  },
  {
   "cell_type": "markdown",
   "metadata": {},
   "source": [
    "#### Exercise 6\n",
    "\n",
    "Write a Python function that accepts a string and calculate the number of upper case letters and lower case letters.\n",
    "\n",
    "Make sure you invoke this function in your main program and display the result"
   ]
  },
  {
   "cell_type": "code",
   "execution_count": 9,
   "metadata": {},
   "outputs": [
    {
     "name": "stdout",
     "output_type": "stream",
     "text": [
      "Enter a string: Harry Potter\n",
      "There is 2 uppercase(s).\n",
      "There is 9 lowercase(s).\n"
     ]
    }
   ],
   "source": [
    "inLine = input(\"Enter a string: \")\n",
    "\n",
    "line = inLine.strip() #breaks the string to smaller pieces\n",
    "\n",
    "def upper(line):\n",
    "    \n",
    "    countUpper = 0\n",
    "    \n",
    "    for i in line:\n",
    "        if i.isupper():\n",
    "            countUpper = countUpper + 1\n",
    "            \n",
    "    return countUpper\n",
    "\n",
    "def lower(line):\n",
    "    \n",
    "    countLower = 0\n",
    "    \n",
    "    for i in line:\n",
    "        if i.islower():\n",
    "            countLower = countLower + 1\n",
    "            \n",
    "    return countLower\n",
    "\n",
    "print(\"There is %s uppercase(s).\" %(upper(line)))\n",
    "print(\"There is %s lowercase(s).\" %(lower(line)))\n",
    "\n",
    "### END CODE"
   ]
  },
  {
   "cell_type": "markdown",
   "metadata": {},
   "source": [
    "#### Exercise 7\n",
    "\n",
    " Write a Python function to print the even numbers from a given list..\n",
    " \n",
    " Make sure you invoke this function in your main program and display the result"
   ]
  },
  {
   "cell_type": "code",
   "execution_count": 11,
   "metadata": {
    "scrolled": true
   },
   "outputs": [
    {
     "name": "stdout",
     "output_type": "stream",
     "text": [
      "[2, 4, 6, 8, 10]\n"
     ]
    }
   ],
   "source": [
    "myList = [1,2,3,4,5,6,7,8,9,10]\n",
    "\n",
    "def even(myList):\n",
    "    \n",
    "    newList = []\n",
    "    \n",
    "    for i in myList:\n",
    "        if i%2 == 0:\n",
    "            newList.append(i)\n",
    "            \n",
    "    return newList\n",
    "\n",
    "print(even(myList))\n",
    "\n",
    "### END CODE"
   ]
  },
  {
   "cell_type": "markdown",
   "metadata": {},
   "source": [
    "#### Exercise 8\n",
    "\n",
    "Write a Python function that checks whether a passed string is palindrome or not.\n",
    "\n",
    "Make sure you invoke this function in your main program and display the result"
   ]
  },
  {
   "cell_type": "code",
   "execution_count": 14,
   "metadata": {},
   "outputs": [
    {
     "name": "stdout",
     "output_type": "stream",
     "text": [
      "True\n"
     ]
    }
   ],
   "source": [
    "import string\n",
    "\n",
    "inString = (\"Sas\").lower() #lower case the string\n",
    "\n",
    "#split the string\n",
    "newString = inString.split()\n",
    "\n",
    "def pali(newString):\n",
    "    \n",
    "   return inString == inString[::-1]\n",
    "\n",
    "print(pali(newString))\n",
    "\n",
    "### END CODE"
   ]
  },
  {
   "cell_type": "code",
   "execution_count": 15,
   "metadata": {},
   "outputs": [
    {
     "name": "stdout",
     "output_type": "stream",
     "text": [
      "False\n"
     ]
    }
   ],
   "source": [
    "import string\n",
    "\n",
    "inString = (\"Saffron\").lower() #lower case the string\n",
    "\n",
    "#split the string\n",
    "newString = inString.split()\n",
    "\n",
    "def pali(newString):\n",
    "    \n",
    "   return inString == inString[::-1]\n",
    "\n",
    "print(pali(newString))\n",
    "\n",
    "### END CODE"
   ]
  },
  {
   "cell_type": "markdown",
   "metadata": {
    "collapsed": true
   },
   "source": [
    "#### Exercise 9\n",
    "\n",
    "Write a recursive Python program to compute the result of fibonacci series. \n",
    "\n",
    "This is what a fibonacci series is https://www.mathsisfun.com/numbers/fibonacci-sequence.html\n",
    "\n",
    "Make sure you invoke this function in your main program and display the result"
   ]
  },
  {
   "cell_type": "code",
   "execution_count": 23,
   "metadata": {},
   "outputs": [
    {
     "name": "stdout",
     "output_type": "stream",
     "text": [
      "55\n"
     ]
    }
   ],
   "source": [
    "#The Rule is xn = xn-1 + xn-2\n",
    "# n =\t0\t1\t2\t3\t4\t5\t6\t7\t8\t9\t10\t11\t12\t13\t14\t...\n",
    "# xn =\t0\t1\t1\t2\t3\t5\t8\t13\t21\t34\t55\t89\t144\t233\t377\n",
    "\n",
    "def fib(n):\n",
    "    \n",
    " #list of exceptions   \n",
    " if n==1 or n==2: \n",
    "    return 1\n",
    " if n == 0:\n",
    "    return 0\n",
    "\n",
    " return fib(n-1) + fib(n-2) #call on a recursive function to find fib sequence.\n",
    "\n",
    "print (fib(10))\n"
   ]
  },
  {
   "cell_type": "markdown",
   "metadata": {},
   "source": [
    "#### Exercise 10\n",
    "\n",
    "Write a python program to autocorrect user input using the edit distance method. \n",
    "\n",
    "Make sure you invoke this function in your main program and display the result"
   ]
  },
  {
   "cell_type": "code",
   "execution_count": 8,
   "metadata": {},
   "outputs": [],
   "source": [
    "### Create a list of words\n",
    "wordList = [\"happy\", \"lovely\", \"you\", \"we\", \"sing\", \"blue\", \"carpet\"]\n",
    "\n",
    "#creat a similarity function\n",
    "def similarity(inputWord):\n",
    "    \n",
    "    #get list of words that share the relatively same size +/=\n",
    "    if len(inputWord) == 0:\n",
    "        print(\"Please provide a valid word\")\n",
    "        return(\"Invalid Entry\")\n",
    "    \n",
    "    lowerWordLen = len(inputWord) - 1\n",
    "    upperWordLen = len(inputWord) + 1\n",
    "    \n",
    "    #get the list of possible correct words\n",
    "    possibleWords = []\n",
    "    \n",
    "    for entry in wordList:\n",
    "        if len(entry) >= lowerWordLen and len(entry) <= upperWordLen:\n",
    "            possibleWords.append(entry)\n",
    "            \n",
    "    #perform similarity comparison\n",
    "    firstTime = True\n",
    "    bestMatchCount = None\n",
    "    bestMatchWord = None\n",
    "    \n",
    "    for entry in possibleWords:\n",
    "        matchCount = 0\n",
    "        for l1 in entry:\n",
    "            if l1 in inputWord:\n",
    "                matchCount = matchCount + 1\n",
    "                \n",
    "        if firstTime == True:\n",
    "            bestMatchCount = matchCount\n",
    "            bestMatchCount = entry\n",
    "            firstTime = False\n",
    "        else:\n",
    "            if matchCount > bestMatchCount:\n",
    "                bestMatchCount = matchCount\n",
    "                bestMatchWord = entry\n",
    "                \n",
    "    #display the best match\n",
    "    print(\"Best Match is: %s \" %(bestMatchWord))\n",
    "    \n",
    "### END CODE"
   ]
  },
  {
   "cell_type": "code",
   "execution_count": 9,
   "metadata": {},
   "outputs": [
    {
     "ename": "TypeError",
     "evalue": "'>' not supported between instances of 'int' and 'str'",
     "output_type": "error",
     "traceback": [
      "\u001b[0;31m---------------------------------------------------------------------------\u001b[0m",
      "\u001b[0;31mTypeError\u001b[0m                                 Traceback (most recent call last)",
      "\u001b[0;32m<ipython-input-9-74ce97a52e38>\u001b[0m in \u001b[0;36m<module>\u001b[0;34m()\u001b[0m\n\u001b[0;32m----> 1\u001b[0;31m \u001b[0msimilarity\u001b[0m\u001b[0;34m(\u001b[0m\u001b[0;34m\"ha\"\u001b[0m\u001b[0;34m)\u001b[0m\u001b[0;34m\u001b[0m\u001b[0m\n\u001b[0m",
      "\u001b[0;32m<ipython-input-8-ba0d464a9991>\u001b[0m in \u001b[0;36msimilarity\u001b[0;34m(inputWord)\u001b[0m\n\u001b[1;32m     36\u001b[0m             \u001b[0mfirstTime\u001b[0m \u001b[0;34m=\u001b[0m \u001b[0;32mFalse\u001b[0m\u001b[0;34m\u001b[0m\u001b[0m\n\u001b[1;32m     37\u001b[0m         \u001b[0;32melse\u001b[0m\u001b[0;34m:\u001b[0m\u001b[0;34m\u001b[0m\u001b[0m\n\u001b[0;32m---> 38\u001b[0;31m             \u001b[0;32mif\u001b[0m \u001b[0mmatchCount\u001b[0m \u001b[0;34m>\u001b[0m \u001b[0mbestMatchCount\u001b[0m\u001b[0;34m:\u001b[0m\u001b[0;34m\u001b[0m\u001b[0m\n\u001b[0m\u001b[1;32m     39\u001b[0m                 \u001b[0mbestMatchCount\u001b[0m \u001b[0;34m=\u001b[0m \u001b[0mmatchCount\u001b[0m\u001b[0;34m\u001b[0m\u001b[0m\n\u001b[1;32m     40\u001b[0m                 \u001b[0mbestMatchWord\u001b[0m \u001b[0;34m=\u001b[0m \u001b[0mentry\u001b[0m\u001b[0;34m\u001b[0m\u001b[0m\n",
      "\u001b[0;31mTypeError\u001b[0m: '>' not supported between instances of 'int' and 'str'"
     ]
    }
   ],
   "source": [
    "similarity(\"ha\")"
   ]
  },
  {
   "cell_type": "code",
   "execution_count": null,
   "metadata": {},
   "outputs": [],
   "source": [
    "#user input\n",
    "inputWord = input(\"Enter a word: \")\n",
    "print(similarity(inputWord))"
   ]
  },
  {
   "cell_type": "code",
   "execution_count": null,
   "metadata": {
    "collapsed": true
   },
   "outputs": [],
   "source": [
    "### Create a list of words\n",
    "wordList = [\"happy\", \"lovely\", \"you\", \"we\", \"sing\", \"blue\", \"carpet\"]\n",
    "\n",
    "#creat a similarity function\n",
    "def similarity(inputWord):\n",
    "    \n",
    "    #get list of words that share the relatively same size +/=\n",
    "    if len(inputWord) == 0:\n",
    "        print(\"Please provide a valid word\")\n",
    "        return(\"Invalid Entry\")\n",
    "    \n",
    "    lowerWordLen = len(inputWord) - 1\n",
    "    upperWordLen = len(inputWord) + 1\n",
    "    \n",
    "    #get the list of possible correct words\n",
    "    possibleWords = []\n",
    "    \n",
    "    for entry in wordList:\n",
    "        if len(entry) >= lowerWordLen and len(entry) <= upperWordLen:\n",
    "            possibleWords.append(entry)\n",
    "            \n",
    "    #perform similarity comparison\n",
    "    firstTime = True\n",
    "    bestMatchCount = None\n",
    "    bestMatchWord = None\n",
    "    \n",
    "    for entry in possibleWords:\n",
    "        matchCount = 0\n",
    "        for l1 in entry:\n",
    "            if l1 in inputWord:\n",
    "                matchCount = matchCount + 1\n",
    "                \n",
    "        if firstTime == True:\n",
    "            bestMatchCount = matchCount\n",
    "            bestMatchCount = entry\n",
    "            firstTime = False\n",
    "        else:\n",
    "            if matchCount > int(bestMatchCount):\n",
    "                bestMatchCount = matchCount\n",
    "                bestMatchWord = entry\n",
    "                \n",
    "    #display the best match\n",
    "    #print(\"Best Match is: %s \" %(bestMatchWord))\n",
    "    print(type(matchCount), type(bestMatchCount), type(bestMatchWord))\n",
    "    #my bestMatchCount is a string and I can't figure out to convert it to a int. We didn't have this problem in class.\n",
    "### END CODE"
   ]
  }
 ],
 "metadata": {
  "kernelspec": {
   "display_name": "Python 3",
   "language": "python",
   "name": "python3"
  },
  "language_info": {
   "codemirror_mode": {
    "name": "ipython",
    "version": 3
   },
   "file_extension": ".py",
   "mimetype": "text/x-python",
   "name": "python",
   "nbconvert_exporter": "python",
   "pygments_lexer": "ipython3",
   "version": "3.6.2"
  }
 },
 "nbformat": 4,
 "nbformat_minor": 2
}
