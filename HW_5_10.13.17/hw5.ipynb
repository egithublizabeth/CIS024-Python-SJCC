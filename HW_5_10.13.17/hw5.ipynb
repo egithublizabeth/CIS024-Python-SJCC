{
 "cells": [
  {
   "cell_type": "markdown",
   "metadata": {},
   "source": [
    "\n",
    "# CIS024C - Fall 2017 - Thursday 5:30-9:25pm \n",
    "\n",
    "## Homework 5\n",
    "\n",
    "Homework 5 covers exercises that involve working with files\n",
    "\n",
    "The below sites have some interesting and useful information on working with files\n",
    "\n",
    "http://www.pythonforbeginners.com/files/reading-and-writing-files-in-python\n",
    "\n",
    "You will need to download this notebook and use this as a starting point for your homework. You will just need to fill in the content of each code-block (cell) and execute. Once you have completed all the exercises, you will need to save and upload this to your github repository under a folder called hw5.\n",
    "\n",
    "Note also the exercises build on top of one another so you might be able to do the next exercise if you have not completed the previous exercise.\n",
    "\n",
    "Post any questions you have on our Slack at **cis-024c1.slack.com**\n",
    "\n",
    "<h3><font color='red'>\n",
    "ALL THE WORK THAT WE DID IN CLASS DURING WEEK 5 IS NOW IN GITHUB AT THE BELOW LINK\n",
    "</font></h3>\n",
    "\n",
    "https://github.com/cis024c/fall2017classwork/blob/master/week5/working_with_files.ipynb\n",
    "\n",
    "** Slides ** for Week 5 can be found at \n",
    "\n",
    "https://docs.google.com/presentation/d/16cRqqIoZl15gX5QC2oEvS8NuUiPrhzOyC5UerGpuWOM/edit?usp=sharing\n",
    "\n",
    "**Please refer back to hw1 and slack for instructions on how to setup your computer for developing using Python.**"
   ]
  },
  {
   "cell_type": "markdown",
   "metadata": {},
   "source": [
    "### Helpful Jupyter Commands\n",
    "\n",
    "Below are some useful commands to know when using Jupyter\n",
    "\n",
    "1. You can add a new cell by clicking on the \"+\" icon on top.\n",
    "2. You can delete a cell by selecting that cell and clicking on the \"scissors\" icon on top.\n",
    "3. You can execute a cell by either pressing shift+enter or selecting the \"play\" button on top.\n",
    "4. You can create a new file in Jupyter via the File menu->New Notebook option. Make sure to select Python 2 when creating your notebook.\n",
    "5. Also, for your code blocks make sure that Code is selected instead of another option like Markdown.\n",
    "6. Use the Enter key to go to the next line in a cell to enter the next statement.\n",
    "7. You can clear results by clicking on the Cell menu item and selecting Current Output->Clear or All Output->Clear depending on whether you are trying to just clear the output for one cell or for all cells.\n",
    "8. In case your program has crashed for some reason (infinite loop, for example), you can restart your Python session by select Kernel in the menu and selecting Restart.\n"
   ]
  },
  {
   "cell_type": "markdown",
   "metadata": {},
   "source": [
    "#### Check Python Version"
   ]
  },
  {
   "cell_type": "code",
   "execution_count": 1,
   "metadata": {},
   "outputs": [
    {
     "name": "stdout",
     "output_type": "stream",
     "text": [
      "Python 3.6.2 :: Anaconda custom (x86_64)\r\n"
     ]
    }
   ],
   "source": [
    "!python --version"
   ]
  },
  {
   "cell_type": "markdown",
   "metadata": {},
   "source": [
    "#### Sample Exercises with conditionals and repetitions\n",
    "\n",
    "Refer to Week 5 classwork for sample exercises - \n",
    "\n",
    "https://github.com/cis024c/fall2017classwork/tree/master/week5"
   ]
  },
  {
   "cell_type": "markdown",
   "metadata": {},
   "source": [
    "**Exercise 1 - Testing your knowledge of files **\n",
    "\n",
    "Answer the below questions\n",
    "\n",
    "1. In your own words, describe what a **file** is?\n",
    "2. Why is it important to close a file after we are done using it?"
   ]
  },
  {
   "cell_type": "markdown",
   "metadata": {},
   "source": [
    "1) A file is a storage unit, that stores texts, images and etc....\n",
    "\n",
    "2) It is important to close a file afer use so any updates, power outages will not effect the original file contents."
   ]
  },
  {
   "cell_type": "markdown",
   "metadata": {},
   "source": [
    "#### Exercise 2 -  Write to a file\n",
    "\n",
    "Write a python program to write the below lines to a file\n",
    "\n",
    "- Name, Age, Gender, Profession\n",
    "- Harry, 23, Male, Software Engineer\n",
    "- Sam, 25, Male, Lawyer\n",
    "- Lisa, 29, Female, Computer Scientist\n",
    "- Mary, 22, Female, Doctor\n",
    "\n",
    "Below are a set of recommended steps to accomplish this\n",
    "1. open a file in write mode. This will return a handle to the file\n",
    "2. use the write method to write each line to the file using the file handle returned in the open call\n",
    "3. close the file when done\n",
    "\n",
    "Once done, go to the folder where the file is and open it to make sure that this is written.\n",
    "\n",
    "Refer to class exercises especially \"In [22]\" in https://github.com/cis024c/fall2017classwork/blob/master/week5/working_with_files.ipynb"
   ]
  },
  {
   "cell_type": "code",
   "execution_count": 186,
   "metadata": {
    "scrolled": true
   },
   "outputs": [
    {
     "name": "stdout",
     "output_type": "stream",
     "text": [
      "Name, Age, Gender, Profession\n",
      "Harry, 23, Male, Software Engineer\n",
      "Sam, 25, Male, Lawer\n",
      "Lisa, 29, Female, Computer Scientist\n",
      "Mary, 22, Female, Doctor\n",
      "\n"
     ]
    }
   ],
   "source": [
    "# open a file in write mode. This will return a handle to the file\n",
    "\n",
    "file = open(\"/Users/elizabeth/Desktop/HW5_Python_10.9.17_2_WriteAFile.txt\", \"w\")\n",
    "\n",
    "# use the write method to write each line to the file using the file handle returned in the open call\n",
    "\n",
    "file.write(\"Name,\" + \" Age,\" + \" Gender,\" + \" Profession\" + \"\\n\")\n",
    "file.write(\"Harry,\" + \" 23,\" + \" Male,\" + \" Software Engineer\" + \"\\n\")\n",
    "file.write(\"Sam,\" + \" 25,\" + \" Male,\" + \" Lawer\" + \"\\n\")\n",
    "file.write(\"Lisa,\" + \" 29,\" + \" Female,\" + \" Computer Scientist\" + \"\\n\")\n",
    "file.write(\"Mary,\" + \" 22,\" + \" Female,\" + \" Doctor\" + \"\\n\")\n",
    "\n",
    "# Read the file\n",
    "\n",
    "file = open(\"/Users/elizabeth/Desktop/HW5_Python_10.9.17_2_WriteAFile.txt\", \"r\")\n",
    "\n",
    "print(file.read())\n",
    "\n",
    "#close the file when done\n",
    "\n",
    "file.close()\n",
    "\n",
    "### END CODE"
   ]
  },
  {
   "cell_type": "markdown",
   "metadata": {},
   "source": [
    "#### Exercise 3 - Reading from a file\n",
    "\n",
    "Read and display the data from the file you had just written to.\n",
    "\n",
    "Below are a set of recommended steps to accomplish this\n",
    "1. open the file in read mode. This will return a handle to the file.\n",
    "2. You can now iterate through each line in the file  and then use readline to read each line.\n",
    "3. Display each line as you read it in\n",
    "\n",
    "Note that you can also use the **read** method to read in all lines or the **readlines** method to read all lines into a list."
   ]
  },
  {
   "cell_type": "code",
   "execution_count": 187,
   "metadata": {},
   "outputs": [
    {
     "name": "stdout",
     "output_type": "stream",
     "text": [
      "Name, Age, Gender, Profession\n",
      "\n",
      "Harry, 23, Male, Software Engineer\n",
      "\n",
      "Sam, 25, Male, Lawer\n",
      "\n",
      "Lisa, 29, Female, Computer Scientist\n",
      "\n",
      "Mary, 22, Female, Doctor\n",
      "\n"
     ]
    }
   ],
   "source": [
    "# open the file in read mode. This will return a handle to the file.\n",
    "file = open(\"/Users/elizabeth/Desktop/HW5_Python_10.9.17_2_WriteAFile.txt\", \"r\")\n",
    "\n",
    "# You can now iterate through each line in the file and then use readline to read each line.\n",
    "\n",
    "for i in file:\n",
    "    print(i)\n",
    "    \n",
    "file.close()\n",
    "    \n",
    "#Another way to accomplish reading the lines in the file\n",
    "#print(file.read()) -> \n",
    "#print(file.readlines())\n",
    "\n",
    "### END CODE"
   ]
  },
  {
   "cell_type": "markdown",
   "metadata": {},
   "source": [
    "#### Exercise 4 - Finding the average age of users in a file\n",
    "\n",
    "Write a python program to find the average age of users in the file you just created.\n",
    "\n",
    "Below are a set of recommended steps to accomplish this\n",
    "1. Open the file in read mode\n",
    "2. Read in each line of the file\n",
    "3. Split each line in the file to get the age\n",
    "4. Find the average age and display it"
   ]
  },
  {
   "cell_type": "code",
   "execution_count": 185,
   "metadata": {},
   "outputs": [
    {
     "name": "stdout",
     "output_type": "stream",
     "text": [
      "24.75\n"
     ]
    }
   ],
   "source": [
    "# Open the file in read mode\n",
    "file = open(\"/Users/elizabeth/Desktop/HW5_Python_10.9.17_2_WriteAFile.txt\", \"r\")\n",
    "\n",
    "# Read in each line of the file\n",
    "file.readline() #skip the first line\n",
    "\n",
    "#Creating a new empty list to hold the age values later on\n",
    "ageList = []\n",
    "\n",
    "#Creating a for loop to split each element ang extract age\n",
    "for i in file:\n",
    "    \n",
    "    # Split each line in the file to get the age\n",
    "    split = i.split(\",\") \n",
    "    \n",
    "    #grab the age values\n",
    "    age = split[-3]\n",
    "    \n",
    "    #Create a new list with all the ages\n",
    "    ageList.append(age)\n",
    "    \n",
    "#create a for loop to switch the string list to an integer list\n",
    "for i in range(0, len(ageList)):\n",
    "    ageList[i] = int(ageList[i])\n",
    "\n",
    "# Find the average age and display it\n",
    "sumOfAll = sum(ageList)\n",
    "avgOfAll = sum(ageList) / len(ageList)\n",
    "\n",
    "\n",
    "print(avgOfAll)\n",
    "\n",
    "file.close()\n",
    "\n",
    "### END CODE"
   ]
  },
  {
   "cell_type": "markdown",
   "metadata": {},
   "source": [
    "#### Exercise 5 - Appending to a file\n",
    "\n",
    "Write a python program to append information provided by users to an existing file. \n",
    "\n",
    "You will need to \n",
    "1.  ask the user to enter their name, age, gender and profession using the **raw_input** method (for Python 3 users, you will use the **input** method).\n",
    "2.  open the file you just created in the above exercies in append mode and write this information to the file.\n",
    "\n",
    "Remember to make sure that the information you append is entered in the same format where each field is separated by commas.\n",
    "\n"
   ]
  },
  {
   "cell_type": "code",
   "execution_count": 208,
   "metadata": {},
   "outputs": [
    {
     "name": "stdout",
     "output_type": "stream",
     "text": [
      "Enter your name: Lea\n",
      "Enter your age: 30\n",
      "Enter your gender: Female\n",
      "Enter your profession: Teacher\n",
      "\n",
      "Name, Age, Gender, Profession\n",
      "Harry, 23, Male, Software Engineer\n",
      "Sam, 25, Male, Lawer\n",
      "Lisa, 29, Female, Computer Scientist\n",
      "Mary, 22, Female, Doctor\n",
      "Lea, 30, Female, Teacher\n",
      "\n"
     ]
    }
   ],
   "source": [
    "# ask the user to enter their name, age, gender and profession using the raw_input method (for Python 3 users, you will use the input method).\n",
    "\n",
    "userName = input(\"Enter your name: \")\n",
    "userAge = input(\"Enter your age: \")\n",
    "userGender = input(\"Enter your gender: \")\n",
    "userProfession = input(\"Enter your profession: \")\n",
    "\n",
    "# open the file you just created in the above exercies in append mode and write this information to the file.\n",
    "file = open(\"/Users/elizabeth/Desktop/HW5_Python_10.9.17_2_WriteAFile.txt\", \"a\")\n",
    "\n",
    "file.write( userName + \",\" + \" \" + str(userAge) + \",\" + \" \" + userGender + \", \" +  userProfession + \"\\n\")\n",
    "\n",
    "file.close()\n",
    "\n",
    "# Read the file\n",
    "\n",
    "file = open(\"/Users/elizabeth/Desktop/HW5_Python_10.9.17_2_WriteAFile.txt\", \"r\")\n",
    "\n",
    "print()\n",
    "print(file.read())\n",
    "\n",
    "file.close()\n",
    "\n",
    "### END CODE"
   ]
  },
  {
   "cell_type": "markdown",
   "metadata": {},
   "source": [
    "## OPTIONAL EXERCISES\n",
    "\n",
    "Below is a set of optional exercises. These will not be graded but the solutions will be posted. I would strongly encourage you to try these out if you are done with the mandatory homework exercises to improve your understanding of python."
   ]
  },
  {
   "cell_type": "markdown",
   "metadata": {},
   "source": [
    "#### NOTE \n",
    "\n",
    "For this program you will need to download the full text of Alice in Wonderland. This is available at this link http://www.gutenberg.org/files/11/11-0.txt\n",
    "\n",
    "For MAC users, you can download this directly from Jupyter by executing the below cell. Windows users might need to click on the link and download the file and save it to your computer. "
   ]
  },
  {
   "cell_type": "code",
   "execution_count": 148,
   "metadata": {},
   "outputs": [
    {
     "name": "stdout",
     "output_type": "stream",
     "text": [
      "  % Total    % Received % Xferd  Average Speed   Time    Time     Time  Current\n",
      "                                 Dload  Upload   Total   Spent    Left  Speed\n",
      "100  169k  100  169k    0     0   239k      0 --:--:-- --:--:-- --:--:--  280k\n"
     ]
    }
   ],
   "source": [
    "# download alice text\n",
    "!curl 'http://www.gutenberg.org/files/11/11-0.txt' -o aliceText.txt"
   ]
  },
  {
   "cell_type": "markdown",
   "metadata": {},
   "source": [
    "#### Exercise 6\n",
    "\n",
    "Write a program to read the file aliceText.txt and count the number of times that the word \"house\" occurs in the text."
   ]
  },
  {
   "cell_type": "code",
   "execution_count": 151,
   "metadata": {},
   "outputs": [
    {
     "name": "stdout",
     "output_type": "stream",
     "text": [
      "8\n"
     ]
    }
   ],
   "source": [
    "#Count all \"house\" occurances\n",
    "\n",
    "import string\n",
    "\n",
    "#open and read the alice file\n",
    "alice = open(\"aliceText.txt\", \"r\")\n",
    "\n",
    "#Count occurances of \"house\"\n",
    "count = 0\n",
    "\n",
    "for line in alice:\n",
    "    wordlist = line.split(\" \")\n",
    "    for word in wordlist:\n",
    "        if word.strip().lower() == \"house\": #convert House to \"house\"\n",
    "            count +=1\n",
    "print(count)\n",
    "\n",
    "### END CODE"
   ]
  },
  {
   "cell_type": "markdown",
   "metadata": {},
   "source": [
    "#### Exercise 7\n",
    "\n",
    "Write a python program to read the file aliceText.txt and find \n",
    "\n",
    "* the number of characters in the file\n",
    "* the number of words in the file\n",
    "* the number of lines in the file\n",
    "\n",
    "Display the result"
   ]
  },
  {
   "cell_type": "code",
   "execution_count": 223,
   "metadata": {},
   "outputs": [
    {
     "name": "stdout",
     "output_type": "stream",
     "text": [
      "There are 3736 lines.\n",
      "There are 30642 words.\n",
      "There are 159014 characters.\n"
     ]
    }
   ],
   "source": [
    "#open and read the alice file\n",
    "alice = open(\"aliceText.txt\", \"r\")\n",
    "\n",
    "lines = 0\n",
    "words = 0\n",
    "characters = 0\n",
    "\n",
    "#Create a for loop to count lines, characters and words\n",
    "for line in alice:\n",
    "    \n",
    "    #Striping white spaces before and after characters \n",
    "    line = line.strip()\n",
    "    \n",
    "    #splits the large string to smaller strings\n",
    "    wordList = line.split(\" \") \n",
    "    \n",
    "    #Counts through iteration\n",
    "    lines = lines + 1\n",
    "    words = words + len(wordList)\n",
    "    characters = characters+len(line)\n",
    "    \n",
    "    \n",
    "print(\"There are %s lines.\" %(lines))\n",
    "print(\"There are %s words.\" %(words))\n",
    "print(\"There are %s characters.\" %(characters))\n",
    "\n",
    "alice.close()"
   ]
  },
  {
   "cell_type": "code",
   "execution_count": 224,
   "metadata": {},
   "outputs": [
    {
     "name": "stdout",
     "output_type": "stream",
     "text": [
      "There are 3736 lines.\n",
      "There are 31709 words.\n",
      "There are 160081 characters.\n"
     ]
    }
   ],
   "source": [
    "import os #using os.linesep\n",
    "\n",
    "#open and read the alice file\n",
    "alice = open(\"aliceText.txt\", \"r\")\n",
    "\n",
    "lines = 0\n",
    "words = 0\n",
    "characters = 0\n",
    "\n",
    "#Create a for loop to count lines, characters and words\n",
    "for line in alice:\n",
    "    \n",
    "    #Striping white spaces before and after characters \n",
    "    #The os.linesep is used when you want to iterate through the lines of a text file. \n",
    "    #The internal scanner recognise the os.linesep and replace it by a single \"\\n\".\n",
    "    line = line.strip(os.linesep) \n",
    "    \n",
    "    #splits the large string to smaller strings\n",
    "    wordList = line.split(\" \") \n",
    "    \n",
    "    #Counts through iteration\n",
    "    lines = lines + 1\n",
    "    words = words + len(wordList)\n",
    "    characters = characters+len(line)\n",
    "    \n",
    "    \n",
    "print(\"There are %s lines.\" %(lines))\n",
    "print(\"There are %s words.\" %(words))\n",
    "print(\"There are %s characters.\" %(characters))\n",
    "\n",
    "alice.close()"
   ]
  },
  {
   "cell_type": "markdown",
   "metadata": {},
   "source": [
    "#### Exercise 8\n",
    "\n",
    "Write a Python program to read the file aliceText.txt and find the top 10 most frequent words in the file. Display the result\n",
    "\n",
    "Below are recommended steps for this program\n",
    "\n",
    "* Read the contents of the file\n",
    "* Initialize a dictionary to maintain the counts of each word\n",
    "* Loop through each word in the file\n",
    "    - If the word is new, then add to dictionary and initialize count to 1 for this word\n",
    "    - If the word is already in the dictionary, then increment the count of that word by 1\n",
    "* Use the **sorted** method to sort all values in descending order  - See the **example** code at the end of this assignment for an example on sorting a dictionary in reverse order by value"
   ]
  },
  {
   "cell_type": "code",
   "execution_count": 221,
   "metadata": {},
   "outputs": [
    {
     "name": "stdout",
     "output_type": "stream",
     "text": [
      "the 1664\n",
      " 1177\n",
      "and 780\n",
      "to 773\n",
      "a 662\n",
      "of 596\n",
      "she 484\n",
      "said 416\n",
      "in 400\n",
      "it 356\n",
      "was 329\n"
     ]
    }
   ],
   "source": [
    "#Read the contents of the file\n",
    "alice = open(\"aliceText.txt\", \"r\")\n",
    "\n",
    "#Initialize an empty dictionary to maintain the counts of each word\n",
    "myDict = { }\n",
    "\n",
    "#Skip the first line\n",
    "alice.readline()\n",
    "\n",
    "#Loop through each word in the file\n",
    "for line in alice: \n",
    "    words = line.strip() #remove white spaces before and after words\n",
    "    wordList = words.split(\" \") #split lines into individual words\n",
    "    \n",
    "    for word in wordList:\n",
    "        #If the word is new, then add to dictionary and initialize count to 1 for this word\n",
    "        if myDict.get(word) == None:\n",
    "            myDict[word] = 1\n",
    "        else:\n",
    "        #If the word is already in the dictionary, then increment the count of that word by 1\n",
    "            myDict[word] += 1\n",
    "\n",
    "#Sort dictionary\n",
    "sortedDict = sorted(myDict, key=myDict.get, reverse = True)\n",
    "\n",
    "# Loop through all the keys in the dictionary and grab the first 10 \n",
    "for key in sortedDict[0:11]:\n",
    "    print(key, myDict[key])\n",
    "\n",
    "alice.close()\n",
    "### END CODE"
   ]
  },
  {
   "cell_type": "markdown",
   "metadata": {},
   "source": [
    "#### Example code for sorting a dictionary by value in reverse order"
   ]
  },
  {
   "cell_type": "code",
   "execution_count": 26,
   "metadata": {},
   "outputs": [
    {
     "name": "stdout",
     "output_type": "stream",
     "text": [
      "eight 8\n",
      "seven 7\n",
      "five 5\n",
      "four 4\n",
      "two 2\n",
      "one 1\n"
     ]
    }
   ],
   "source": [
    "myDict = {'seven': 7, 'four': 4, 'one': 1, 'two': 2, 'five': 5, 'eight': 8} \n",
    "sortedDict = sorted(myDict, key=myDict.get, reverse=True)\n",
    "\n",
    "for key in sortedDict:\n",
    "    print key,myDict[key]"
   ]
  },
  {
   "cell_type": "code",
   "execution_count": 220,
   "metadata": {},
   "outputs": [
    {
     "name": "stdout",
     "output_type": "stream",
     "text": [
      " 2244\n",
      "the 1664\n",
      "and 780\n",
      "to 773\n",
      "a 662\n",
      "of 596\n",
      "she 484\n",
      "said 416\n",
      "in 400\n",
      "it 356\n"
     ]
    }
   ],
   "source": [
    "import os #using os.linesep\n",
    "\n",
    "#Read the contents of the file\n",
    "alice = open(\"aliceText.txt\", \"r\")\n",
    "\n",
    "#Initialize an empty dictionary to maintain the counts of each word\n",
    "myDict = { }\n",
    "\n",
    "#Skip the first line\n",
    "alice.readline()\n",
    "\n",
    "#Loop through each word in the file\n",
    "for line in alice: \n",
    "    line = line.strip(os.linesep) \n",
    "    wordList = line.split(\" \") #split lines into individual words\n",
    "    \n",
    "    for word in wordList:\n",
    "        #If the word is new, then add to dictionary and initialize count to 1 for this word\n",
    "        if myDict.get(word) == None:\n",
    "            myDict[word] = 1\n",
    "        else:\n",
    "        #If the word is already in the dictionary, then increment the count of that word by 1\n",
    "            myDict[word] += 1\n",
    "\n",
    "#Sort dictionary\n",
    "sortedDict = sorted(myDict, key=myDict.get, reverse = True)\n",
    "\n",
    "# Loop through all the keys in the dictionary and grab the first 10 \n",
    "for key in sortedDict[0:10]:\n",
    "    print(key, myDict[key])\n",
    "\n",
    "alice.close()\n",
    "### END CODE"
   ]
  },
  {
   "cell_type": "code",
   "execution_count": null,
   "metadata": {
    "collapsed": true
   },
   "outputs": [],
   "source": []
  }
 ],
 "metadata": {
  "kernelspec": {
   "display_name": "Python 3",
   "language": "python",
   "name": "python3"
  },
  "language_info": {
   "codemirror_mode": {
    "name": "ipython",
    "version": 3
   },
   "file_extension": ".py",
   "mimetype": "text/x-python",
   "name": "python",
   "nbconvert_exporter": "python",
   "pygments_lexer": "ipython3",
   "version": "3.6.2"
  }
 },
 "nbformat": 4,
 "nbformat_minor": 2
}
