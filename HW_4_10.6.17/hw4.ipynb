{
 "cells": [
  {
   "cell_type": "markdown",
   "metadata": {},
   "source": [
    "\n",
    "# CIS024C - Fall 2017 - Thursday 5:30-9:25pm \n",
    "\n",
    "## Homework 4\n",
    "\n",
    "Homework 4 covers exercises in basic collection objects in Python - lists, tuples and dictionaries.\n",
    "\n",
    "The below sites have some interesting and useful information on these objects.\n",
    "\n",
    "http://sthurlow.com/python/lesson06/\n",
    "https://docs.python.org/2/tutorial/datastructures.html\n",
    "\n",
    "You will need to download this notebook and use this as a starting point for your homework. You will just need to fill in the content of each code-block (cell) and execute. Once you have completed all the exercises, you will need to save and upload this to your github repository under a folder called hw3.\n",
    "\n",
    "Note also the exercises build on top of one another so you might be able to do the next exercise if you have not completed the previous exercise.\n",
    "\n",
    "Post any questions you have on our Slack at **cis-024c1.slack.com**\n",
    "\n",
    "<h3><font color='red'>\n",
    "ALL THE WORK THAT WE DID IN CLASS DURING WEEK 4 IS NOW IN GITHUB AT THE BELOW LINK\n",
    "</font></h3>\n",
    "\n",
    "https://github.com/cis024c/fall2017classwork/blob/master/week4/week4_classwork.ipynb\n",
    "\n",
    "** Slides ** for Week 4 can be found at https://docs.google.com/presentation/d/1xhyxix3nF5A26qQTe1gSYJcYjUIipnz9BtZO04GvgJ4/edit?usp=sharing\n",
    "\n",
    "**Please refer back to hw1 and slack for instructions on how to setup your computer for developing using Python.**"
   ]
  },
  {
   "cell_type": "markdown",
   "metadata": {},
   "source": [
    "### Helpful Jupyter Commands\n",
    "\n",
    "Below are some useful commands to know when using Jupyter\n",
    "\n",
    "1. You can add a new cell by clicking on the \"+\" icon on top.\n",
    "2. You can delete a cell by selecting that cell and clicking on the \"scissors\" icon on top.\n",
    "3. You can execute a cell by either pressing shift+enter or selecting the \"play\" button on top.\n",
    "4. You can create a new file in Jupyter via the File menu->New Notebook option. Make sure to select Python 2 when creating your notebook.\n",
    "5. Also, for your code blocks make sure that Code is selected instead of another option like Markdown.\n",
    "6. Use the Enter key to go to the next line in a cell to enter the next statement.\n",
    "7. You can clear results by clicking on the Cell menu item and selecting Current Output->Clear or All Output->Clear depending on whether you are trying to just clear the output for one cell or for all cells.\n",
    "8. In case your program has crashed for some reason (infinite loop, for example), you can restart your Python session by select Kernel in the menu and selecting Restart.\n"
   ]
  },
  {
   "cell_type": "markdown",
   "metadata": {},
   "source": [
    "#### Check Python Version"
   ]
  },
  {
   "cell_type": "code",
   "execution_count": 1,
   "metadata": {},
   "outputs": [
    {
     "name": "stdout",
     "output_type": "stream",
     "text": [
      "Python 3.6.2 :: Anaconda custom (x86_64)\r\n"
     ]
    }
   ],
   "source": [
    "!python --version"
   ]
  },
  {
   "cell_type": "markdown",
   "metadata": {},
   "source": [
    "#### Sample Exercises with conditionals and repetitions\n",
    "\n",
    "Refer to Week 4 classwork for sample exercises - https://github.com/cis024c/fall2017classwork/blob/master/week4/week4_classwork.ipynb"
   ]
  },
  {
   "cell_type": "markdown",
   "metadata": {},
   "source": [
    "**Exercise 1 - Testing your knowledge of lists, tuples and dictionaries**\n",
    "\n",
    "Answer the below questions\n",
    "\n",
    "1. What is the main difference between a list and a tuple\n",
    "2. How does a dictionary object differ from a list."
   ]
  },
  {
   "cell_type": "markdown",
   "metadata": {},
   "source": [
    "<< Double click this cell and enter your result >>\n",
    "##1) The main difference between a list and a tuple is that list are mutable(changeable) and tuples are not mutable.\n",
    "A list is a collection of elements. Can contain any type of object - in float, string or other lists. Lists are mutable. \n",
    "A tuple is a collection of elements, similar to lists. Can contain any type of object - int, float, string or other lists. Are immutable.\n",
    "##2)Dictionary object differ from a list in which each element in a dictionary is a name-value pair."
   ]
  },
  {
   "cell_type": "markdown",
   "metadata": {},
   "source": [
    "#### Exercise 2 -  Initializing a list, tuple and dictionary\n",
    "\n",
    "1. Create a list object with a set of any 10 numbers. Print the result\n",
    "2. Create a tuple object with a set of 10 numbers. Print the result\n",
    "3. Create a dictionary object with a set of 10 numbers. Print the result"
   ]
  },
  {
   "cell_type": "code",
   "execution_count": 2,
   "metadata": {},
   "outputs": [
    {
     "name": "stdout",
     "output_type": "stream",
     "text": [
      "[1, 2, 3, 4, 5, 6, 7, 8, 9, 10]\n",
      "(25, 24, 66, 88, 2, 5, 9, 11, 63, 1)\n",
      "{1: 11, 2: 22, 3: 33, 4: 44, 5: 55, 6: 66, 7: 77, 8: 88, 9: 99, 10: 1010}\n"
     ]
    }
   ],
   "source": [
    "# List\n",
    "x = [1,2,3,4,5,6,7,8,9,10]\n",
    "print(x)\n",
    "\n",
    "# Tuple\n",
    "t = (25,24,66,88,2,5,9,11,63,1)\n",
    "print(t)\n",
    "\n",
    "# Dictionary\n",
    "d = {1:11, 2: 22, 3:33, 4:44, 5:55, 6:66, 7:77, 8:88, 9:99, 10:1010}\n",
    "print(d)\n",
    "\n",
    "### END CODE"
   ]
  },
  {
   "cell_type": "markdown",
   "metadata": {},
   "source": [
    "#### Exercise 3 - Displaying values in a list object\n",
    "\n",
    "Create a list object with 10 arbitrary numbers. Use a ** for loop ** to display every other element. \n",
    "\n",
    "**Example:**\n",
    "\n",
    "If your list has [2,3,4,5,6], then you will need to display [2,4,6]\n",
    "\n",
    "**Hint:** Make use the last step parameter in the range function to do this"
   ]
  },
  {
   "cell_type": "code",
   "execution_count": 3,
   "metadata": {},
   "outputs": [
    {
     "name": "stdout",
     "output_type": "stream",
     "text": [
      "1 3 5 7 9 "
     ]
    }
   ],
   "source": [
    "# Make a list\n",
    "x = [1,2,3,4,5,6,7,8,9,10]\n",
    "\n",
    "#Create a loop and print out every other term\n",
    "for i in range(1,len(x),2):\n",
    "    print(i, end = \" \")\n",
    "\n",
    "#i = x[0::2] Another way to do this\n",
    "### END CODE"
   ]
  },
  {
   "cell_type": "markdown",
   "metadata": {},
   "source": [
    "#### Exercise 4 - Sorting a list of strings\n",
    "\n",
    "Ask the user to enter a list of names. Sort the names in ascending order. \n",
    "\n",
    "Hint: Use the same logic that we used in class to sort numbers. When used with strings, Python will sort the strings in alphabetical order"
   ]
  },
  {
   "cell_type": "code",
   "execution_count": 98,
   "metadata": {},
   "outputs": [
    {
     "name": "stdout",
     "output_type": "stream",
     "text": [
      "Enter a list of names: Mary, Beth, Angie\n",
      "[' Angie', ' Beth', 'Mary']\n"
     ]
    }
   ],
   "source": [
    "### Create a list of names\n",
    "\n",
    "names = input(\"Enter a list of names: \")\n",
    "\n",
    "# Put it in a list and split it by comma\n",
    "nameList = names.split(\",\")\n",
    "\n",
    "result = []\n",
    "\n",
    "for i in range(len(nameList)):\n",
    "    last = min(nameList)\n",
    "    result.append(last)\n",
    "    nameList.remove(last)\n",
    "    \n",
    "print(result)\n",
    "\n",
    "### END CODE"
   ]
  },
  {
   "cell_type": "markdown",
   "metadata": {},
   "source": [
    "#### Exercise 5 - Accessing values in a dictionary object\n",
    "\n",
    "Initialize a dictionary object with the below key, value pairs\n",
    "\n",
    " Key  | Value\n",
    " -----|------\n",
    "1|Harry\n",
    "2|Sally\n",
    "3|Joe\n",
    "4|Mathew\n",
    "\n",
    "Ask the user to enter a key between 1 and 4.\n",
    "\n",
    "Display the corresponding value in the dictionary\n",
    "\n",
    "\n"
   ]
  },
  {
   "cell_type": "code",
   "execution_count": 94,
   "metadata": {},
   "outputs": [
    {
     "name": "stdout",
     "output_type": "stream",
     "text": [
      "Enter a number 1-4: 2\n",
      "Sally\n"
     ]
    }
   ],
   "source": [
    "### Create a dictionary\n",
    "\n",
    "myDictionary = {1: \"Harry\", 2: \"Sally\", 3: \"Joe\", 4: \"Mathew\"}\n",
    "\n",
    "number = int(input(\"Enter a number 1-4: \"))\n",
    "\n",
    "print(myDictionary[number])\n",
    "\n",
    "### END CODE\n"
   ]
  },
  {
   "cell_type": "markdown",
   "metadata": {},
   "source": [
    "## OPTIONAL EXERCISES\n",
    "\n",
    "Below is a set of optional exercises. These will not be graded but the solutions will be posted. I would strongly encourage you to try these out if you are done with the mandatory homework exercises to improve your understanding of python."
   ]
  },
  {
   "cell_type": "markdown",
   "metadata": {},
   "source": [
    "#### Exercise 6\n",
    "\n",
    "Write a Python script to check if a given key already exists in a dictionary\n",
    "\n",
    "**Hint**: Use the **get** method to determine if a key exists"
   ]
  },
  {
   "cell_type": "code",
   "execution_count": 126,
   "metadata": {},
   "outputs": [
    {
     "name": "stdout",
     "output_type": "stream",
     "text": [
      "Enter a key(number) to check if it exists: 3\n",
      "Mary\n"
     ]
    }
   ],
   "source": [
    "### Create a dictionary\n",
    "myDictionary = {1: \"Bob\", 2: \"Sally\", 3: \"Mary\", 4: \"Taft\", 5: \"Billy\"}\n",
    "\n",
    "inputKey = int(input(\"Enter a key(number) to check if it exists: \"))\n",
    "\n",
    "if myDictionary.get(inputKey) == None:\n",
    "    print (\"The key does not exist\")\n",
    "else: \n",
    "    print (myDictionary[inputKey])    \n",
    "\n",
    "### END CODE"
   ]
  },
  {
   "cell_type": "markdown",
   "metadata": {},
   "source": [
    "#### Exercise 7\n",
    "\n",
    "Write a Python script to create a dictionary that contains a sequence of numbers from 1 to n and their squares. Ask the user to enter n. Display the resulting dictionary.\n",
    "\n",
    "**Example**\n",
    "If user enters 5, then your dictionary will look like\n",
    "\n",
    "{1:1,2:4,3:9:4:16,5:25}\n",
    "\n",
    "**Hint** You will need to assign new values to the dictionary to create the dictionary object"
   ]
  },
  {
   "cell_type": "code",
   "execution_count": 185,
   "metadata": {
    "scrolled": true
   },
   "outputs": [
    {
     "name": "stdout",
     "output_type": "stream",
     "text": [
      "Enter a number: 5\n",
      "{0: 0, 1: 1, 2: 4, 3: 9, 4: 16, 5: 25}\n"
     ]
    }
   ],
   "source": [
    "#Create an empty dictionary with mathmatical expression\n",
    "squaresDictionary = {x: x**2 for x in range(number)}\n",
    "\n",
    "#Ask for a number\n",
    "number = int(input(\"Enter a number: \"))\n",
    "\n",
    "#Values in Dictionary\n",
    "squaresDictionary[number] = number**2\n",
    " \n",
    "print (squaresDictionary)    \n",
    "\n",
    "##End Code"
   ]
  },
  {
   "cell_type": "markdown",
   "metadata": {},
   "source": [
    "#### Exercise 8\n",
    "\n",
    "Refer to Exercise 7 for this problem.\n",
    "\n",
    "Write a python program to sum all the values in the above dictionary (n:n^2). Display the resulting sum\n"
   ]
  },
  {
   "cell_type": "code",
   "execution_count": 186,
   "metadata": {},
   "outputs": [
    {
     "name": "stdout",
     "output_type": "stream",
     "text": [
      "Enter a number: 5\n",
      "{0: 0, 1: 1, 2: 4, 3: 9, 4: 16, 5: 25}\n",
      "The sum of the values is: 55 \n"
     ]
    }
   ],
   "source": [
    "#Create an empty dictionary with mathmatical expression\n",
    "squaresDictionary = {x: x**2 for x in range(number)}\n",
    "\n",
    "#Ask for a number\n",
    "number = int(input(\"Enter a number: \"))\n",
    "\n",
    "#Values in Dictionary\n",
    "squaresDictionary[number] = number**2\n",
    "\n",
    "#Print the dictionary and sum of all values\n",
    "print (squaresDictionary)    \n",
    "print (\"The sum of the values is: %s \" %(sum(squaresDictionary.values())))\n",
    "\n",
    "### END CODE"
   ]
  },
  {
   "cell_type": "markdown",
   "metadata": {},
   "source": [
    "#### Exercise 9\n",
    "\n",
    "Write a Python program to sort the below dictionary by key in descending order. \n",
    "\n",
    " {2:\"Mary\",1:\"Sally\",5:\"Harry\",4:\"Joe\"}\n",
    " \n",
    "**Hint:** Refer to the class example"
   ]
  },
  {
   "cell_type": "code",
   "execution_count": 124,
   "metadata": {},
   "outputs": [
    {
     "name": "stdout",
     "output_type": "stream",
     "text": [
      "5 Harry\n",
      "4 Joe\n",
      "2 Mary\n",
      "1 Sally\n"
     ]
    }
   ],
   "source": [
    "### Create Dictionary\n",
    "\n",
    "myDictionary = {2:\"Mary\", 1:\"Sally\", 5:\"Harry\", 4:\"Joe\"}\n",
    "\n",
    "keys = myDictionary.keys()\n",
    "\n",
    "numbers = list(keys)\n",
    "\n",
    "result = []\n",
    "\n",
    "for i in range(len(numbers)):\n",
    "    largest = max(numbers)\n",
    "    result.append(largest)\n",
    "    numbers.remove(largest)\n",
    "    \n",
    "for i in result:\n",
    "    print (i, myDictionary[i])\n",
    "    \n",
    "### END CODE"
   ]
  },
  {
   "cell_type": "markdown",
   "metadata": {},
   "source": [
    "#### Exercise 10\n",
    "\n",
    "Write a python program to combine the below two dictionaries and display the resulting dictionary\n",
    "\n",
    "* Dictionary 1:  {2:\"Mary\",1:\"Sally\",5:\"Harry\",4:\"Joe\"}\n",
    "* Dictionary 2:  {6:\"John\",9:\"Nancy\",12:\"Peter\",8:\"Alice\"}\n",
    " "
   ]
  },
  {
   "cell_type": "code",
   "execution_count": 141,
   "metadata": {},
   "outputs": [
    {
     "name": "stdout",
     "output_type": "stream",
     "text": [
      "{2: 'Mary', 1: 'Sally', 5: 'Harry', 4: 'Joe', 6: 'John', 9: 'Nancy', 12: 'Peter', 8: 'Alice'}\n"
     ]
    }
   ],
   "source": [
    "### Create Dictionaries\n",
    "\n",
    "DictionaryOne = {2:\"Mary\", 1:\"Sally\", 5:\"Harry\", 4:\"Joe\"}\n",
    "DictionaryTwo = {6:\"John\", 9:\"Nancy\", 12:\"Peter\", 8:\"Alice\"}\n",
    "\n",
    "#Add two dicitonaries together\n",
    "\n",
    "DictionaryOne.update(DictionaryTwo)\n",
    "print(DictionaryOne)\n",
    "\n",
    "#Another Way to Do this\n",
    "#newDictionary = {**DictionaryOne, **DictionaryTwo}\n",
    "#print(newDictionary)\n",
    "\n",
    "### END CODE"
   ]
  },
  {
   "cell_type": "code",
   "execution_count": null,
   "metadata": {
    "collapsed": true
   },
   "outputs": [],
   "source": []
  }
 ],
 "metadata": {
  "kernelspec": {
   "display_name": "Python 3",
   "language": "python",
   "name": "python3"
  },
  "language_info": {
   "codemirror_mode": {
    "name": "ipython",
    "version": 3
   },
   "file_extension": ".py",
   "mimetype": "text/x-python",
   "name": "python",
   "nbconvert_exporter": "python",
   "pygments_lexer": "ipython3",
   "version": "3.6.2"
  }
 },
 "nbformat": 4,
 "nbformat_minor": 2
}
