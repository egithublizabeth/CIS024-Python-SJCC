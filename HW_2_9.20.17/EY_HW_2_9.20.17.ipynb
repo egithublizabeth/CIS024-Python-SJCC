{
 "cells": [
  {
   "cell_type": "markdown",
   "metadata": {},
   "source": [
    "\n",
    "# CIS024C - Fall 2017 - Thursday 5:30-9:25pm \n",
    "## Homework 2\n",
    "\n",
    "Homework 2 covers exercises in Conditionals and Repetition. It involves the user of the if..elif..else statements and the for/while loops.\n",
    "\n",
    "You will need to download this notebook and use this as a starting point for your homework. You will just need to fill in the content of each code-block (cell) and execute. Once you have completed all the exercises, you will need to save and upload this to your github repository under a folder called hw2.\n",
    "\n",
    "Note also the exercises build on top of one another so you might be able to do the next exercise if you have not completed the previous exercise.\n",
    "\n",
    "Post any questions you have on our Slack at **cis-024c1.slack.com**\n",
    "\n",
    "<h3><font color='red'>\n",
    "ALL THE WORK THAT WE DID IN CLASS DURING WEEK 2 IS NOW IN GITHUB AT THE BELOW LINK\n",
    "</font></h3>\n",
    "\n",
    "https://github.com/cis024c/fall2017classwork/blob/master/week2/week2.ipynb\n",
    "\n",
    "\n",
    "**Please refer back to hw1 and slack for instructions on how to setup your computer for developing using Python.**"
   ]
  },
  {
   "cell_type": "markdown",
   "metadata": {},
   "source": [
    "### Helpful Jupyter Commands\n",
    "\n",
    "Below are some useful commands to know when using Jupyter\n",
    "\n",
    "1. You can add a new cell by clicking on the \"+\" icon on top.\n",
    "2. You can delete a cell by selecting that cell and clicking on the \"scissors\" icon on top.\n",
    "3. You can execute a cell by either pressing shift+enter or selecting the \"play\" button on top.\n",
    "4. You can create a new file in Jupyter via the File menu->New Notebook option. Make sure to select Python 2 when creating your notebook.\n",
    "5. Also, for your code blocks make sure that Code is selected instead of another option like Markdown.\n",
    "6. Use the Enter key to go to the next line in a cell to enter the next statement.\n",
    "7. You can clear results by clicking on the Cell menu item and selecting Current Output->Clear or All Output->Clear depending on whether you are trying to just clear the output for one cell or for all cells.\n",
    "8. In case your program has crashed for some reason (infinite loop, for example), you can restart your Python session by select Kernel in the menu and selecting Restart.\n"
   ]
  },
  {
   "cell_type": "markdown",
   "metadata": {},
   "source": [
    "#### Check Python Version"
   ]
  },
  {
   "cell_type": "code",
   "execution_count": 1,
   "metadata": {},
   "outputs": [
    {
     "name": "stdout",
     "output_type": "stream",
     "text": [
      "Python 3.6.2 :: Anaconda custom (x86_64)\r\n"
     ]
    }
   ],
   "source": [
    "!python --version"
   ]
  },
  {
   "cell_type": "markdown",
   "metadata": {},
   "source": [
    "#### Sample Exercises with conditionals and repetitions\n",
    "\n",
    "Refer to Week 2 classwork 2 for sample exercises - https://github.com/cis024c/fall2017classwork/blob/master/week2/week2.ipynb"
   ]
  },
  {
   "cell_type": "markdown",
   "metadata": {},
   "source": [
    "#### Exercise 1 - if statement\n",
    "\n",
    "Write a python program to accept a number from the user. Use the **if** statement to check to see if the number is greater than 100. If the number is greater than 100, print the message \"Found a number greater than 100\""
   ]
  },
  {
   "cell_type": "code",
   "execution_count": 6,
   "metadata": {},
   "outputs": [
    {
     "name": "stdout",
     "output_type": "stream",
     "text": [
      "Please Enter A Number: 150\n",
      "Found a number greater than 100\n"
     ]
    }
   ],
   "source": [
    "### Comparison using if statement\n",
    "\n",
    "number = input(\"Please Enter A Number: \")\n",
    "input_number = int(number)\n",
    "\n",
    "if input_number > 100:\n",
    "    print (\"Found a number greater than 100\")\n",
    "\n"
   ]
  },
  {
   "cell_type": "markdown",
   "metadata": {},
   "source": [
    "#### Exercise 2 - if...else statement\n",
    "\n",
    "Write a python program to accept the name of a user. Use the **if** statement to check to see if the name is \"Joe\". If the name is \"Joe\", print the message \"User Joe was entered\", otherwise if the name is not \"Joe\", print a message saying that \"User Joe was not entered\" "
   ]
  },
  {
   "cell_type": "code",
   "execution_count": 9,
   "metadata": {},
   "outputs": [
    {
     "name": "stdout",
     "output_type": "stream",
     "text": [
      "What is your name? Joe\n",
      "User Joe was entered.\n"
     ]
    }
   ],
   "source": [
    "### Comparison using if statments\n",
    "\n",
    "userName = input(\"What is your name? \")\n",
    "if userName == \"Joe\":\n",
    "    print (\"User Joe was entered.\")\n",
    "else:\n",
    "    print (\"User Joe was not entered.\")\n",
    "\n"
   ]
  },
  {
   "cell_type": "markdown",
   "metadata": {},
   "source": [
    "#### Exercise 3 - if..elif...else statement\n",
    "\n",
    "Write a python program to accept the salary of the user. \n",
    "\n",
    "If the salary is **less than 70,000**, then print the message \"User salary is less than 70000\", otherwise if the salary is **less than 100,000**, print the message \"User salary is less than 100,000, otherwise, print the message \"User salary is greater than or equal to 100,000\""
   ]
  },
  {
   "cell_type": "code",
   "execution_count": 32,
   "metadata": {},
   "outputs": [
    {
     "name": "stdout",
     "output_type": "stream",
     "text": [
      "What is your salary? 150000\n",
      "User salary is greater than or equal to 100,000\n"
     ]
    }
   ],
   "source": [
    "### Comparison using if/elif/else statement\n",
    "\n",
    "userSalary = input(\"What is your salary? \")\n",
    "salary = int(userSalary)\n",
    "\n",
    "if salary < 70000:\n",
    "    print (\"User salary is less than 70,000\")\n",
    "elif salary < 100000:\n",
    "    print (\"User salary is less than 100,000\")\n",
    "else: \n",
    "    print (\"User salary is greater than or equal to 100,000\")\n",
    "    "
   ]
  },
  {
   "cell_type": "markdown",
   "metadata": {},
   "source": [
    "#### Exercise 4 - for loop\n",
    "\n",
    "Write a program to get a number from the user. Find the some of all numbers from 1 to the number that the user entered.\n",
    "\n",
    "For example, if the user enters 10, then you would need to find the sum of all numbers from 1 to 10 like so. Use the range statement in the for loop...see week 2 classwork for more information on the range statement\n",
    "\n",
    "\n",
    "```\n",
    "1+2+3+4+5+6+7+8+9+10\n",
    "```\n",
    "\n",
    "Print the result"
   ]
  },
  {
   "cell_type": "code",
   "execution_count": 45,
   "metadata": {},
   "outputs": [
    {
     "name": "stdout",
     "output_type": "stream",
     "text": [
      "Let's find the sum of the range for a number! Pick a number: 10\n",
      "The sum is 55\n"
     ]
    }
   ],
   "source": [
    "### for loop application with range statement with an input number\n",
    "\n",
    "numberInput = int(input(\"Let's find the sum of the range for a number! Pick a number: \"))\n",
    "\n",
    "sum = 0\n",
    "for number in range(1, numberInput + 1):\n",
    "    sum = sum + number\n",
    "    \n",
    "print(\"The sum is %s\" % (sum))\n",
    "\n",
    "### END CODE"
   ]
  },
  {
   "cell_type": "markdown",
   "metadata": {},
   "source": [
    "#### Exercise - while loop\n",
    "\n",
    "**Guessing a number.**\n",
    "\n",
    "Initialize a variable called **myNumber** to any arbitrary value. For example, maybe you thought of a number 9\n",
    "\n",
    "Use the **while** loop to ask the user to enter a number. Check to see if the number entered by the user matches the number **myNumber** that you thought of. If there is a match, **break** from the **while** loop and print \"Yippee! User guessed the right number\". If there is no match allow the **while** loop to continue to ask the user for a number until a match is found\n"
   ]
  },
  {
   "cell_type": "code",
   "execution_count": 51,
   "metadata": {},
   "outputs": [
    {
     "name": "stdout",
     "output_type": "stream",
     "text": [
      "Guess My Number! Enter a number: 100\n",
      "Keep guessing.\n",
      "Guess My Number! Enter a number: 50\n",
      "Keep guessing.\n",
      "Guess My Number! Enter a number: 15\n",
      "Yippee! User guessed the right number.\n"
     ]
    }
   ],
   "source": [
    "### while loop with application to \"Guess My Number\"\n",
    "\n",
    "myNumber = 15\n",
    "\n",
    "while True:\n",
    "    number = int(input(\"Guess My Number! Enter a number: \"))\n",
    "    \n",
    "    if number == myNumber:\n",
    "        print (\"Yippee! User guessed the right number.\")\n",
    "        break\n",
    "    else:\n",
    "        print (\"Keep guessing.\")\n",
    "\n",
    "\n",
    "### END CODE"
   ]
  },
  {
   "cell_type": "markdown",
   "metadata": {},
   "source": [
    "## OPTIONAL EXERCISES\n",
    "\n",
    "Below is a set of optional exercises. These will not be graded but the solutions will be posted. I would strongly encourage you to try these out if you are done with the mandatory homework exercises to improve your understanding of python."
   ]
  },
  {
   "cell_type": "markdown",
   "metadata": {},
   "source": [
    "#### Exercise 6\n",
    "\n",
    "Write a Python program to convert temperatures to and from celsius, fahrenheit.\n",
    "\n",
    "[ Formula : c/5 = f-32/9 [ where c = temperature in celsius and f = temperature in fahrenheit ] "
   ]
  },
  {
   "cell_type": "code",
   "execution_count": 55,
   "metadata": {},
   "outputs": [
    {
     "name": "stdout",
     "output_type": "stream",
     "text": [
      "Welcome to the Celsius to Fahrenheit Calculator!\n",
      "What degree(s) is it in Fahrenheit? 1\n",
      "It is -17.22 Celsius\n"
     ]
    }
   ],
   "source": [
    "### Celsius to Fahrenheit Calculator\n",
    "\n",
    "greet = print(\"Welcome to the Celsius to Fahrenheit Calculator!\")\n",
    "\n",
    "inputF = int(input(\"What degree(s) is it in Fahrenheit? \"))\n",
    "outputC = ((inputF - 32) / 9) * 5\n",
    "print (\"It is %.2f Celsius\" %(outputC))\n"
   ]
  },
  {
   "cell_type": "markdown",
   "metadata": {},
   "source": [
    "#### Exercise 7\n",
    "\n",
    "Write a Python program that prints all the numbers from 0 to 10 except 1 and 5. Use the **for** loop"
   ]
  },
  {
   "cell_type": "code",
   "execution_count": 87,
   "metadata": {},
   "outputs": [
    {
     "name": "stdout",
     "output_type": "stream",
     "text": [
      "0\n",
      "2\n",
      "3\n",
      "4\n",
      "6\n",
      "7\n",
      "8\n",
      "9\n",
      "10\n"
     ]
    }
   ],
   "source": [
    "### for loop w/application of print 0-10 exclude 1 and 5\n",
    "\n",
    "for i in [ x for x in range(0,11) if x != 1 and x != 5]:\n",
    "\n",
    "        print (i)\n",
    "\n"
   ]
  },
  {
   "cell_type": "markdown",
   "metadata": {},
   "source": [
    "#### Exercise 8\n",
    "\n",
    "Write a Python program that reads two integers representing a month and day and prints the season for that month and day. Refer to this URL https://www.timeanddate.com/calendar/aboutseasons.html for when a season starts and ends in North America (Northern Meteorological Seasons)"
   ]
  },
  {
   "cell_type": "code",
   "execution_count": 117,
   "metadata": {},
   "outputs": [
    {
     "name": "stdout",
     "output_type": "stream",
     "text": [
      "What Season Is It?\n",
      "What's the month? 3\n",
      "It's Spring!\n"
     ]
    }
   ],
   "source": [
    "### What Season is it? - if/elif/else\n",
    "\n",
    "print(\"What Season Is It?\")\n",
    "\n",
    "inputMonth = int(input(\"What's the month? \"))\n",
    "\n",
    "if inputMonth == 3 or inputMonth == 4 or inputMonth == 5:\n",
    "    print (\"It's Spring!\")\n",
    "    \n",
    "elif inputMonth == 6 or inputMonth == 7 or inputMonth == 8:\n",
    "    print (\"It's Summer!\")\n",
    "    \n",
    "elif inputMonth == 9 or inputMonth == 10 or inputMonth == 11:\n",
    "    print (\"It's Fall!\")\n",
    "    \n",
    "else: \n",
    "    print (\"It's Winter!\")\n",
    "    \n",
    "    \n",
    "\n",
    "### How do you make inputMonth == a list of (3, 4, 5) instead of using the OR statements"
   ]
  },
  {
   "cell_type": "markdown",
   "metadata": {},
   "source": [
    "#### Exercise 9\n",
    "\n",
    "Use a **while** loop to ask the user to enter a number. Print a running total of all the numbers that the user enters. If the user enters 0, break from the while loop."
   ]
  },
  {
   "cell_type": "code",
   "execution_count": 132,
   "metadata": {},
   "outputs": [
    {
     "name": "stdout",
     "output_type": "stream",
     "text": [
      "Pick a number: 1\n",
      "Sum of Input Numbers are : 1 \n",
      "Pick a number: 2\n",
      "Sum of Input Numbers are : 3 \n",
      "Pick a number: 3\n",
      "Sum of Input Numbers are : 6 \n",
      "Pick a number: 4\n",
      "Sum of Input Numbers are : 10 \n"
     ]
    }
   ],
   "source": [
    "### while loop w/application of \"Sum of Input Numbers\"\n",
    "\n",
    "#intialize sum and counter\n",
    "count = 1 \n",
    "sum = 0\n",
    "\n",
    "while (count < 5):\n",
    "    inputNumber = int(input(\"Pick a number: \"))\n",
    "    if inputNumber == 0:\n",
    "        break\n",
    "    else:\n",
    "        sum = sum + inputNumber\n",
    "        count = count + 1       #Updating counter to count + 1 loop\n",
    "    \n",
    "        print (\"Sum of Input Numbers are : %s \" % (sum))\n",
    "    \n",
    "#How do you show the \"Sum of Input Numbers..\" only once, as the last line?"
   ]
  },
  {
   "cell_type": "markdown",
   "metadata": {},
   "source": [
    "##### Exercise 10\n",
    "\n",
    "Write a Python program to create the multiplication table (from 1 to 10) of a number. Use the formatted print statements that you learnt in Week 2 and the **for** loop to print this table.\n",
    "\n",
    "Input a number: 6                                                       \n",
    "6 x 1 = 6                                                               \n",
    "6 x 2 = 12                                                              \n",
    "6 x 3 = 18                                                              \n",
    "6 x 4 = 24                                                              \n",
    "6 x 5 = 30                                                              \n",
    "6 x 6 = 36                                                              \n",
    "6 x 7 = 42                                                              \n",
    "6 x 8 = 48                                                              \n",
    "6 x 9 = 54                                                              \n",
    "6 x 10 = 60 "
   ]
  },
  {
   "cell_type": "code",
   "execution_count": 141,
   "metadata": {},
   "outputs": [
    {
     "name": "stdout",
     "output_type": "stream",
     "text": [
      "Multiplication Table for any Number\n",
      "Input a number: 3\n",
      "3 x 1 = 3\n",
      "3 x 2 = 6\n",
      "3 x 3 = 9\n",
      "3 x 4 = 12\n",
      "3 x 5 = 15\n",
      "3 x 6 = 18\n",
      "3 x 7 = 21\n",
      "3 x 8 = 24\n",
      "3 x 9 = 27\n",
      "3 x 10 = 30\n"
     ]
    }
   ],
   "source": [
    "### for loop w/application of 1-10 Multiplication table\n",
    "\n",
    "print (\"Multiplication Table for any Number\")\n",
    "number = int(input(\"Input a number: \"))\n",
    "\n",
    "for i in range(1,11):\n",
    "    print(number, 'x', i, '=', number*i)\n",
    "    \n",
    "\n",
    "### overthought this way too much."
   ]
  },
  {
   "cell_type": "code",
   "execution_count": null,
   "metadata": {
    "collapsed": true
   },
   "outputs": [],
   "source": []
  }
 ],
 "metadata": {
  "kernelspec": {
   "display_name": "Python 3",
   "language": "python",
   "name": "python3"
  },
  "language_info": {
   "codemirror_mode": {
    "name": "ipython",
    "version": 3
   },
   "file_extension": ".py",
   "mimetype": "text/x-python",
   "name": "python",
   "nbconvert_exporter": "python",
   "pygments_lexer": "ipython3",
   "version": "3.6.2"
  }
 },
 "nbformat": 4,
 "nbformat_minor": 2
}
