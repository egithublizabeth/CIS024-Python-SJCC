{
 "cells": [
  {
   "cell_type": "markdown",
   "metadata": {},
   "source": [
    "\n",
    "# CIS024C - Fall 2017 - Thursday 5:30-9:25pm \n",
    "\n",
    "## Homework 10\n",
    "\n",
    "Homework 10 covers object oriented programming in Python\n",
    "\n",
    "The below sites have some interesting and useful information on working with files\n",
    "\n",
    "https://drive.google.com/open?id=1OrcpXEmhvgcJxSlchIBsvmXST0lG_uKx\n",
    "http://www.tutorialspoint.com/python/python_classes_objects.htm\n",
    "\n",
    "You will need to download this notebook and use this as a starting point for your homework. You will just need to fill in the content of each code-block (cell) and execute. Once you have completed all the exercises, you will need to save and upload this to your github repository under a folder called hw10.\n",
    "\n",
    "Note also the exercises build on top of one another so you might be able to do the next exercise if you have not completed the previous exercise.\n",
    "\n",
    "Post any questions you have on our Slack at **cis-024c1.slack.com**\n",
    "\n",
    "** Slides ** for Week 10 can be found at \n",
    "\n",
    "https://docs.google.com/presentation/d/1AigvCKV1yb3PrrcT5xt3IqyAwGpv6IKMNWYUiQ2Oy6k/edit?usp=sharing\n",
    "\n",
    "**Please refer back to hw1 and slack for instructions on how to setup your computer for developing using Python.**"
   ]
  },
  {
   "cell_type": "markdown",
   "metadata": {},
   "source": [
    "### Helpful Jupyter Commands\n",
    "\n",
    "Below are some useful commands to know when using Jupyter\n",
    "\n",
    "1. You can add a new cell by clicking on the \"+\" icon on top.\n",
    "2. You can delete a cell by selecting that cell and clicking on the \"scissors\" icon on top.\n",
    "3. You can execute a cell by either pressing shift+enter or selecting the \"play\" button on top.\n",
    "4. You can create a new file in Jupyter via the File menu->New Notebook option. Make sure to select Python 2 when creating your notebook.\n",
    "5. Also, for your code blocks make sure that Code is selected instead of another option like Markdown.\n",
    "6. Use the Enter key to go to the next line in a cell to enter the next statement.\n",
    "7. You can clear results by clicking on the Cell menu item and selecting Current Output->Clear or All Output->Clear depending on whether you are trying to just clear the output for one cell or for all cells.\n",
    "8. In case your program has crashed for some reason (infinite loop, for example), you can restart your Python session by select Kernel in the menu and selecting Restart.\n"
   ]
  },
  {
   "cell_type": "markdown",
   "metadata": {},
   "source": [
    "#### Check Python Version"
   ]
  },
  {
   "cell_type": "code",
   "execution_count": 1,
   "metadata": {},
   "outputs": [
    {
     "name": "stdout",
     "output_type": "stream",
     "text": [
      "Python 3.6.2 :: Anaconda custom (x86_64)\r\n"
     ]
    }
   ],
   "source": [
    "!python --version"
   ]
  },
  {
   "cell_type": "markdown",
   "metadata": {},
   "source": [
    "#### Sample Exercises with Exception Handling\n",
    "\n",
    "Week 10 Class Work can be found here\n",
    "\n",
    "https://github.com/cis024c/fall2017classwork/blob/master/week10/week10_classwork.ipynb"
   ]
  },
  {
   "cell_type": "markdown",
   "metadata": {},
   "source": [
    "**Exercise 1 - Testing your knowledge of object oriented programming concepts **\n",
    "\n",
    "Answer the below questions\n",
    "\n",
    "1. Why do we need classes?\n",
    "2. What is encapsulation?"
   ]
  },
  {
   "cell_type": "markdown",
   "metadata": {},
   "source": [
    "1. We need \"classes\" becuase its easier to write larger prgroms with ease of reuse of existing code.\n",
    "Class is a fundamental building block and a simple logical grouping of data and functions(methods). Classes are a modeling technique and are blueprints for creating objects. Classes can inherit other classes and establish a tree search structure for attributes in any of these inherited/linked classes. \n",
    "2. In an object oriented python program, you can restrict access to methods and variables. This can prevent the data from being modified by accident and is known as encapsulation"
   ]
  },
  {
   "cell_type": "markdown",
   "metadata": {},
   "source": [
    "** Exercise 2 - Class creation **\n",
    "\n",
    "Create a Python class named **Employee** with the following attributes and methods\n",
    "\n",
    "Data members\n",
    "```\n",
    "1. employeeName  - type string\n",
    "2. employeeAge  - type int\n",
    "3. employeeSalary - type float\n",
    "```\n",
    "\n",
    "Methods:\n",
    "```\n",
    "1. getEmployee - returns employee name\n",
    "2. getEmployeeAge - gets the employee age\n",
    "3. getEmployeeSalary - returns the employee salary\n",
    "4. __init__ - initialize method accepts the name, age and salary of the employee\n",
    "```\n",
    "\n",
    "Create an object of type Employee and initialize with arbitrary values. Invoke the get methods and display the result."
   ]
  },
  {
   "cell_type": "code",
   "execution_count": 15,
   "metadata": {
    "collapsed": true
   },
   "outputs": [],
   "source": [
    "#Attributes: employeeName, employeeAge, employeeSalary\n",
    "#Methods: getEmployee, getEmployeeAge, getEmployeeSalary\n",
    "\n",
    "class Employee(object):\n",
    "    \n",
    "    def __init__(self, employeeName, employeeAge, employeeSalary):\n",
    "        self.name = str(employeeName)\n",
    "        self.age = int(employeeAge)\n",
    "        self.salary = float(employeeSalary)\n",
    "        \n",
    "    def getEmployee(self):\n",
    "                \n",
    "        return self.name\n",
    "    \n",
    "    def getEmployeeAge(self):\n",
    "                \n",
    "        return self.age\n",
    "    \n",
    "    def getEmployeeSalary(self):\n",
    "                \n",
    "        return self.salary\n",
    "\n",
    "\n",
    "\n",
    "### END CODE"
   ]
  },
  {
   "cell_type": "code",
   "execution_count": 16,
   "metadata": {
    "collapsed": true
   },
   "outputs": [],
   "source": [
    "emp1 = Employee(\"Bob\",25,0)"
   ]
  },
  {
   "cell_type": "code",
   "execution_count": 17,
   "metadata": {},
   "outputs": [
    {
     "name": "stdout",
     "output_type": "stream",
     "text": [
      "Employee Name: Bob\n",
      "Employee Age: 25\n",
      "Employee Salary: 0.0\n"
     ]
    }
   ],
   "source": [
    "print(\"Employee Name: %s\" %(emp1.getEmployee()))\n",
    "print(\"Employee Age: %s\" %(emp1.getEmployeeAge()))\n",
    "print(\"Employee Salary: %s\" %(emp1.getEmployeeSalary()))"
   ]
  },
  {
   "cell_type": "markdown",
   "metadata": {},
   "source": [
    "#### Exercise 3 - Private members\n",
    "\n",
    "In the above **Employee** class make the employeeName, employeeAge and employeeSalary private so that their access is restricted to only within the class."
   ]
  },
  {
   "cell_type": "code",
   "execution_count": 23,
   "metadata": {
    "collapsed": true
   },
   "outputs": [],
   "source": [
    "#In the context of class, private means the attributes are only available for \n",
    "#the members of the class not for the outside of the class\n",
    "#“Private” instance variables that cannot be accessed except from inside an object don’t exist in Python.\n",
    "#it still is possible to access or modify a variable that is considered private.\n",
    "\n",
    "#Attributes: employeeName, employeeAge, employeeSalary\n",
    "#Methods: getEmployee, getEmployeeAge, getEmployeeSalary\n",
    "\n",
    "class Employee(object):\n",
    "    \n",
    "    def __init__(self, employeeName, employeeAge, employeeSalary):\n",
    "        self.__name = str(employeeName)\n",
    "        self.__age = int(employeeAge)\n",
    "        self.__salary = float(employeeSalary)\n",
    "        \n",
    "    def getEmployee(self):\n",
    "                \n",
    "        return self.__name\n",
    "    \n",
    "    def getEmployeeAge(self):\n",
    "                \n",
    "        return self.__age\n",
    "    \n",
    "    def getEmployeeSalary(self):\n",
    "                \n",
    "        return self.__salary\n"
   ]
  },
  {
   "cell_type": "code",
   "execution_count": 24,
   "metadata": {
    "collapsed": true
   },
   "outputs": [],
   "source": [
    "emp2 = Employee(\"Mary\", 45, 20000)"
   ]
  },
  {
   "cell_type": "code",
   "execution_count": 25,
   "metadata": {},
   "outputs": [
    {
     "name": "stdout",
     "output_type": "stream",
     "text": [
      "Employee Name: Mary\n",
      "Employee Age: 45\n",
      "Employee Salary: 20000.0\n"
     ]
    }
   ],
   "source": [
    "print(\"Employee Name: %s\" %(emp2.getEmployee()))\n",
    "print(\"Employee Age: %s\" %(emp2.getEmployeeAge()))\n",
    "print(\"Employee Salary: %s\" %(emp2.getEmployeeSalary()))"
   ]
  },
  {
   "cell_type": "markdown",
   "metadata": {},
   "source": [
    "#### Exercise 4 - Adding setters and working with a list of Employees\n",
    "\n",
    "In the **Employee** class add the following methods\n",
    "\n",
    "```\n",
    "1. setEmployeeAge - accepts age and sets it in the object\n",
    "2. setEmployeeName - accepts employee name and sets it in the object\n",
    "3. setEmployeeSalary - accepts employee salary and sets it i nthe object\n",
    "```\n",
    "\n",
    "Create a list of employees called employeeList. Initialize the list with three objects of type Employee. Initialize the object with the values \"None\" for employeeName, 0 for employeeAge and 0 for employeeSalary.\n",
    "\n",
    "Loop  through each employee in the employeeList. Each time, request the user to enter the name, age and salary of a different employee. Use the set methods to set the name, age and salary for each employee in the employeeList.\n",
    "\n",
    "Loop through each employee in the employeeList. Display the name, age and salary of each employee."
   ]
  },
  {
   "cell_type": "code",
   "execution_count": 5,
   "metadata": {},
   "outputs": [
    {
     "name": "stdout",
     "output_type": "stream",
     "text": [
      "Enter Employee Name: Bob\n",
      "Enter Employee Age: 25\n",
      "Enter Employee Salary: 0\n",
      "Enter Employee Name: Mary\n",
      "Enter Employee Age: 34\n",
      "Enter Employee Salary: 700\n",
      "Enter Employee Name: Gil\n",
      "Enter Employee Age: 45\n",
      "Enter Employee Salary: 200\n",
      "Bob,25,25.0\n",
      "Mary,34,34.0\n",
      "Gil,45,45.0\n"
     ]
    }
   ],
   "source": [
    "\n",
    "#Employee Class\n",
    "class Employee(object):\n",
    "\n",
    "    #Initialize the object with the values \"None\" for employeeName, 0 for employeeAge and 0 for employeeSalary.\n",
    "    EmployeeName = \"None\"\n",
    "    EmployeeAge = 0\n",
    "    EmployeeSalary = 0\n",
    "        \n",
    "    def __init__(self, EmployeeName, EmployeeAge, EmployeeSalary):\n",
    "        self.name = str(EmployeeName)\n",
    "        self.age = int(EmployeeAge)\n",
    "        self.salary = float(EmployeeSalary)\n",
    "        \n",
    "    def getEmployeeName(self):\n",
    "                \n",
    "        self.name\n",
    "    \n",
    "    def setEmployeeName(self, newName):\n",
    "        \n",
    "        self.name = newName\n",
    "    \n",
    "    def getEmployeeAge(self):\n",
    "                \n",
    "        self.age\n",
    "    \n",
    "    def setAge(self, newAge):\n",
    "        \n",
    "        self.age = newAge\n",
    "    \n",
    "    def getEmployeeSalary(self):\n",
    "                \n",
    "        self.salary\n",
    "    \n",
    "    def setSalary(self, newSalary):\n",
    "        \n",
    "        self.salary = newSalary\n",
    "        \n",
    "    def __str__(self): #takes in one large string\n",
    "        \n",
    "        return self.name + \",\" + str(self.age) + \",\" + str(self.salary)\n",
    "\n",
    "#Create a list of employees called employeeList and intialize with 3 objects of type employee\n",
    "employeeList = []\n",
    "\n",
    "#Ask user for name, age and salary inputs\n",
    "for i in range(3):\n",
    "    employee_name = input(\"Enter Employee Name: \")\n",
    "    employee_age = input(\"Enter Employee Age: \")\n",
    "    employee_salary = input(\"Enter Employee Salary: \")\n",
    "    \n",
    "    employeeList.append(Employee(employee_name, employee_age, employee_age))\n",
    "\n",
    "#Disply list results\n",
    "for employee in employeeList:\n",
    "    \n",
    "    print(employee)\n"
   ]
  },
  {
   "cell_type": "code",
   "execution_count": 52,
   "metadata": {},
   "outputs": [
    {
     "name": "stdout",
     "output_type": "stream",
     "text": [
      "[1, 2, 3]\n"
     ]
    }
   ],
   "source": [
    "myList = [1,2,3]\n",
    "\n",
    "print(myList)\n",
    "\n",
    "   "
   ]
  },
  {
   "cell_type": "markdown",
   "metadata": {},
   "source": [
    "#### Exercise 5 -  Creating a Python calculator class\n",
    "\n",
    "Create a Python class called Calculator. \n",
    "\n",
    "The class has the following data members\n",
    "\n",
    "```\n",
    "1. number1 - type float\n",
    "2. number2 - type float\n",
    "```\n",
    "\n",
    "The class must have the below methods\n",
    "\n",
    "```\n",
    "1. add - adds two numbers and returns the result\n",
    "2. subtract - subtracts the first number from the second number and returns the result\n",
    "3. multiply - multiply two numbers and returns the result\n",
    "4. divide - divide the first number by the second number and returns the result\n",
    "5. __init__ - accepts two numbers and uses those numbers to initialize number1 and number2 respectively\n",
    "```\n",
    "\n",
    "Create an object of the Calculator class. Initialize it with any two arbitrary numbers. Invoke the methods add, subtract, multiple and divide and display the result\n",
    "\n",
    "\n"
   ]
  },
  {
   "cell_type": "code",
   "execution_count": 47,
   "metadata": {},
   "outputs": [
    {
     "name": "stdout",
     "output_type": "stream",
     "text": [
      "Addition:5.0 Subtract:-1.0 Multiplication:6.0 Division:0.6666666666666666\n"
     ]
    }
   ],
   "source": [
    "class Calculator():\n",
    "    \n",
    "    def __init__(self,number1,number2):\n",
    "        self.n1 = float(number1)\n",
    "        self.n2 = float(number2)\n",
    "        \n",
    "    def add(self):\n",
    "        \n",
    "        return self.n1 + self.n2\n",
    "    \n",
    "    def sub(self):\n",
    "        \n",
    "        return self.n1-self.n2\n",
    "    \n",
    "    def multi(self):\n",
    "        \n",
    "        return self.n1*self.n2\n",
    "    \n",
    "    def div(self):\n",
    "        \n",
    "        return self.n1/self.n2\n",
    "    \n",
    "    def __str__(self):\n",
    "        \n",
    "        return \"Addition:%s Subtract:%s Multiplication:%s Division:%s\" % (str(self.add()),str(self.sub()),str(self.multi()), str(self.div()))\n",
    "    \n",
    "myCal = Calculator(2,3)\n",
    "\n",
    "print (myCal)\n"
   ]
  },
  {
   "cell_type": "code",
   "execution_count": null,
   "metadata": {
    "collapsed": true
   },
   "outputs": [],
   "source": []
  }
 ],
 "metadata": {
  "kernelspec": {
   "display_name": "Python 3",
   "language": "python",
   "name": "python3"
  },
  "language_info": {
   "codemirror_mode": {
    "name": "ipython",
    "version": 3
   },
   "file_extension": ".py",
   "mimetype": "text/x-python",
   "name": "python",
   "nbconvert_exporter": "python",
   "pygments_lexer": "ipython3",
   "version": "3.6.2"
  }
 },
 "nbformat": 4,
 "nbformat_minor": 2
}
