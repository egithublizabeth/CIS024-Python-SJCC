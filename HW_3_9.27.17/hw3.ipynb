{
 "cells": [
  {
   "cell_type": "markdown",
   "metadata": {},
   "source": [
    "\n",
    "# CIS024C - Fall 2017 - Thursday 5:30-9:25pm \n",
    "\n",
    "## Homework 3\n",
    "\n",
    "Homework 3 covers exercises in String Manipulation. \n",
    "\n",
    "For a list of features supported in the string module, please refer to this URL https://docs.python.org/2/library/string.html\n",
    "\n",
    "You will need to download this notebook and use this as a starting point for your homework. You will just need to fill in the content of each code-block (cell) and execute. Once you have completed all the exercises, you will need to save and upload this to your github repository under a folder called hw3.\n",
    "\n",
    "Note also the exercises build on top of one another so you might be able to do the next exercise if you have not completed the previous exercise.\n",
    "\n",
    "Post any questions you have on our Slack at **cis-024c1.slack.com**\n",
    "\n",
    "<h3><font color='red'>\n",
    "ALL THE WORK THAT WE DID IN CLASS DURING WEEK 3 IS NOW IN GITHUB AT THE BELOW LINK\n",
    "</font></h3>\n",
    "\n",
    "https://github.com/cis024c/fall2017classwork/blob/master/week3/week3_classwork.ipynb\n",
    "\n",
    "** Slides ** for Week 3 can be found at https://docs.google.com/presentation/d/16z1-Ln71MiXMRfgnZJB60mnXWnwCiUn0gHURe9KMMWg/edit?usp=sharing\n",
    "\n",
    "\n",
    "**Please refer back to hw1 and slack for instructions on how to setup your computer for developing using Python.**"
   ]
  },
  {
   "cell_type": "markdown",
   "metadata": {},
   "source": [
    "### Helpful Jupyter Commands\n",
    "\n",
    "Below are some useful commands to know when using Jupyter\n",
    "\n",
    "1. You can add a new cell by clicking on the \"+\" icon on top.\n",
    "2. You can delete a cell by selecting that cell and clicking on the \"scissors\" icon on top.\n",
    "3. You can execute a cell by either pressing shift+enter or selecting the \"play\" button on top.\n",
    "4. You can create a new file in Jupyter via the File menu->New Notebook option. Make sure to select Python 2 when creating your notebook.\n",
    "5. Also, for your code blocks make sure that Code is selected instead of another option like Markdown.\n",
    "6. Use the Enter key to go to the next line in a cell to enter the next statement.\n",
    "7. You can clear results by clicking on the Cell menu item and selecting Current Output->Clear or All Output->Clear depending on whether you are trying to just clear the output for one cell or for all cells.\n",
    "8. In case your program has crashed for some reason (infinite loop, for example), you can restart your Python session by select Kernel in the menu and selecting Restart.\n"
   ]
  },
  {
   "cell_type": "markdown",
   "metadata": {},
   "source": [
    "#### Check Python Version"
   ]
  },
  {
   "cell_type": "code",
   "execution_count": 1,
   "metadata": {},
   "outputs": [
    {
     "name": "stdout",
     "output_type": "stream",
     "text": [
      "Python 3.6.2 :: Anaconda custom (x86_64)\r\n"
     ]
    }
   ],
   "source": [
    "!python --version"
   ]
  },
  {
   "cell_type": "markdown",
   "metadata": {},
   "source": [
    "#### Sample Exercises with conditionals and repetitions\n",
    "\n",
    "Refer to Week 2 classwork 2 for sample exercises - https://github.com/cis024c/fall2017classwork/blob/master/week2/week2.ipynb"
   ]
  },
  {
   "cell_type": "markdown",
   "metadata": {},
   "source": [
    "#### Exercise 1 -  Using logical operators - and, or and not\n",
    "\n",
    "Get the ages of three persons Harry, Sally and Mary from the user. Check the below conditions and display the results\n",
    "\n",
    "1. If Harry and Sally are both less than 20 years old, display the message saying \"Harry and Sally are less than 20 years old\"\n",
    "2. If either Sally or Mary is older than 30, then display the message saying \"Either Sally or Mary is older than 30\"\n",
    "\n",
    "Remember that to do this you will need to use different variables to store the respective ages and then evaluate those ages using the if statement and logical operators."
   ]
  },
  {
   "cell_type": "code",
   "execution_count": 3,
   "metadata": {},
   "outputs": [
    {
     "name": "stdout",
     "output_type": "stream",
     "text": [
      "What is Harry's Age: 20\n",
      "What is Salley's Age: 19\n",
      "What is Mary's Age: 45\n",
      "Harry and Sally are less than 20 years old.\n",
      "Either Sally or Mary is older than 30.\n"
     ]
    }
   ],
   "source": [
    "## Ask for age inputs.\n",
    "\n",
    "ageHarry = int(input(\"What is Harry's Age: \"))\n",
    "ageSally = int(input(\"What is Salley's Age: \"))\n",
    "ageMary = int(input(\"What is Mary's Age: \"))\n",
    "\n",
    "## Process\n",
    "\n",
    "if ageHarry and ageSally < 20: \n",
    "    print (\"Harry and Sally are less than 20 years old.\")\n",
    "    \n",
    "if ageSally or ageMary > 30:\n",
    "    print (\"Either Sally or Mary is older than 30.\")\n",
    "\n",
    "\n",
    "### END CODE"
   ]
  },
  {
   "cell_type": "markdown",
   "metadata": {},
   "source": [
    "#### Exercise 2 - Find the length of a given string\n",
    "\n",
    "Ask the user to enter their first name. Compute the number of characters in the first name and print the result. \n",
    "\n",
    "Note that you will need to use the ** len ** function to obtain the number of characters in the string."
   ]
  },
  {
   "cell_type": "code",
   "execution_count": 5,
   "metadata": {},
   "outputs": [
    {
     "name": "stdout",
     "output_type": "stream",
     "text": [
      "What is your first name: Elizabeth\n",
      "Your name has 9 characters\n"
     ]
    }
   ],
   "source": [
    "### Ask for first name\n",
    "\n",
    "name = input(\"What is your first name: \")\n",
    "\n",
    "print (\"Your name has %s characters\" %(len(name)))\n",
    "\n",
    "\n",
    "### END CODE"
   ]
  },
  {
   "cell_type": "markdown",
   "metadata": {},
   "source": [
    "#### Exercise 3 - Reversing a String\n",
    "\n",
    "Ask the user to enter the name of their favorite movie. Reverse the name of the movie and print it out."
   ]
  },
  {
   "cell_type": "code",
   "execution_count": 7,
   "metadata": {},
   "outputs": [
    {
     "name": "stdout",
     "output_type": "stream",
     "text": [
      "What's your favorite movie: Le Chef\n",
      "Reversed string fehC eL\n"
     ]
    }
   ],
   "source": [
    "### Ask for favourite movie\n",
    "\n",
    "favMovie = input(\"What's your favorite movie: \")\n",
    "\n",
    "print (\"Reversed string\", favMovie[::-1])\n",
    "\n",
    "\n",
    "### END CODE"
   ]
  },
  {
   "cell_type": "markdown",
   "metadata": {},
   "source": [
    "#### Exercise 4 - Converting an input string to lower case and looking for a match\n",
    "\n",
    "Ask the user to enter a **line of text** and a **search string**. Convert the line of text that the user entered to lower case. Search the resulting text for the search string. Print \"Search String Found\" if the search string was found, otherwise, print \"Search String not found\"\n",
    "\n",
    "For example, the user could enter \"Jack and Jill went up the Hill\" and the search string \"jill\". You first need to convert the input string to lower case like so - \"jack and jill went up the hill\". \n",
    "\n",
    "Next you will need to look for the search string in the input string. You can use the \"if searchString in text\" form of query to determine if the text contains the search string. See week 3 classowork for an example"
   ]
  },
  {
   "cell_type": "code",
   "execution_count": 10,
   "metadata": {},
   "outputs": [
    {
     "name": "stdout",
     "output_type": "stream",
     "text": [
      "Please enter a line of text: It's too early for the rooster to be roosting!\n",
      "Please enter a search string: Rooster\n",
      "Search String Found.\n"
     ]
    }
   ],
   "source": [
    "import string\n",
    "\n",
    "### Inputs and convert to lowercase\n",
    "inputString = input(\"Please enter a line of text: \").lower()\n",
    "searchString = input(\"Please enter a search string: \").lower()\n",
    "\n",
    "## Looking for a match\n",
    "if searchString in inputString:\n",
    "    print (\"Search String Found.\")\n",
    "else:\n",
    "    print (\"Search String Not Found.\")\n",
    "\n",
    "### END CODE"
   ]
  },
  {
   "cell_type": "markdown",
   "metadata": {},
   "source": [
    "#### Exercise 5 - Parsing a comma separated set of values\n",
    "\n",
    "Ask the user to type in a grocery list. Ensure that each item in the grocery list is separated by a comma. Use the **split** command to extract each token (item) in the grocery list. Print the last item in the list.\n",
    "\n",
    "For example, if the user enters \"milk,bananas,sugar,eggs,cheese\", you will need to read this into a variable, parse the contents using the **split** command and print \"cheese\""
   ]
  },
  {
   "cell_type": "code",
   "execution_count": 12,
   "metadata": {},
   "outputs": [
    {
     "name": "stdout",
     "output_type": "stream",
     "text": [
      "Please enter a grocery list(comma seperated): milk, eggs, fruit\n",
      "The last item on your list is fruit \n"
     ]
    }
   ],
   "source": [
    "### Input Grocery List\n",
    "groceryList = input(\"Please enter a grocery list(comma seperated): \")\n",
    "\n",
    "## Split Process\n",
    "items = groceryList.split()\n",
    "\n",
    "## print last word of list\n",
    "print (\"The last item on your list is %s \" %(items[-1]))\n",
    "\n",
    "## print first word of list\n",
    "#print (\"The first item on your list is %s \" %(items[0]))\n",
    "\n",
    "### END CODE"
   ]
  },
  {
   "cell_type": "markdown",
   "metadata": {},
   "source": [
    "## OPTIONAL EXERCISES\n",
    "\n",
    "Below is a set of optional exercises. These will not be graded but the solutions will be posted. I would strongly encourage you to try these out if you are done with the mandatory homework exercises to improve your understanding of python."
   ]
  },
  {
   "cell_type": "markdown",
   "metadata": {},
   "source": [
    "#### Exercise 6\n",
    "\n",
    "Ask the user to type in a grocery list and a search item. Ensure that each item in the grocery list is separated by a comma and an arbitrary number of spaces. Use the **split** command to search for the search item in this list. \n",
    "\n",
    "For example, let us say that the user enters \"\"milk ,  bananas,  sugar,  eggs,  cheese  \" (notice the arbitrary spaces between items) and the search term is \"eggs\". You will need to look for \"eggs\" in the grocery list and if found, print the message \"Item found\", otherwise, print \"Item not found\""
   ]
  },
  {
   "cell_type": "code",
   "execution_count": 17,
   "metadata": {},
   "outputs": [
    {
     "name": "stdout",
     "output_type": "stream",
     "text": [
      "Please enter a search item: bread\n",
      "Please enter a grocery list(comma seperated, type quit to exit): eggs, milk, butter, bread\n",
      "Item Found\n",
      "Please enter a grocery list(comma seperated, type quit to exit): quit\n",
      "User ended session.\n"
     ]
    }
   ],
   "source": [
    "import string\n",
    "\n",
    "groceryList = \"\"\n",
    "\n",
    "### Input Grocery List\n",
    "searchTerm = input(\"Please enter a search item: \").lower()\n",
    "\n",
    "## Process, finding search term in list.\n",
    "while True:\n",
    "    \n",
    "    groceryList = input(\"Please enter a grocery list(comma seperated, type quit to exit): \").lower()\n",
    "\n",
    "    if groceryList == \"quit\":\n",
    "        print (\"User ended session.\")\n",
    "        break\n",
    "        \n",
    "    items = groceryList.split(\",\")\n",
    "    \n",
    "    found = False\n",
    "    for i in items:\n",
    "        if i.strip() == searchTerm: #.strip()Return a copy of the string with the leading and trailing characters removed. \n",
    "            print(\"Item Found\")\n",
    "            \n",
    "            found = True\n",
    "            break\n",
    "            \n",
    "    if found == False:\n",
    "        print (\"Item not found.\")\n",
    "        break\n",
    "\n",
    "### END CODE"
   ]
  },
  {
   "cell_type": "markdown",
   "metadata": {},
   "source": [
    "#### Exercise 7\n",
    "\n",
    "Write a python program that takes in a list of words from the user and prints the shortest word in the list. If two words are equal short, just pick the first one that you see.\n"
   ]
  },
  {
   "cell_type": "code",
   "execution_count": 38,
   "metadata": {},
   "outputs": [
    {
     "name": "stdout",
     "output_type": "stream",
     "text": [
      "Enter a list(comma seperated): milk,tic,notepad,patagonia\n",
      "The shortest word is:  ('tic', 3)\n"
     ]
    }
   ],
   "source": [
    "\n",
    "### Input list\n",
    "\n",
    "inputList = input(\"Enter a list(comma seperated): \")\n",
    "\n",
    "list = inputList.split(\",\")\n",
    "\n",
    "print (\"The shortest word is: \", min([(i, len(i)) for i in list], key=lambda x:x[1]))\n",
    "                                      \n",
    "### END CODE\n",
    "\n",
    "## explain \"key=lambda x:x[1]\""
   ]
  },
  {
   "cell_type": "markdown",
   "metadata": {},
   "source": [
    "#### Exercise 8\n",
    "\n",
    "Accept a line of text from the user with some repeating words. Ask the user to enter a search term (one of the repeating words). Count the number of times the search term repeats in the text.\n",
    "\n",
    "For example, if the sentence is - \"She sells sea shells on the sea shore\" and the search term is \"sea\", then the program should print the result 2, indicating that two occurrences of the word \"sea\" were found in the text\n"
   ]
  },
  {
   "cell_type": "code",
   "execution_count": 25,
   "metadata": {},
   "outputs": [
    {
     "name": "stdout",
     "output_type": "stream",
     "text": [
      "Enter a line of text with some repeating words: I scream, you scream, we all scream for ice cream!\n",
      "Enter a search term: scream\n",
      "3\n"
     ]
    }
   ],
   "source": [
    "import string\n",
    "\n",
    "### Inputs\n",
    "inputText = input(\"Enter a line of text with some repeating words: \").lower()\n",
    "searchTerm = input(\"Enter a search term: \").lower()\n",
    "\n",
    "text = inputText.split(\" \")\n",
    "\n",
    "### Count how many searchTerm occurances take place\n",
    "wordcount = 0\n",
    "\n",
    "for word in text:\n",
    "    if searchTerm in word:\n",
    "        wordcount = wordcount + 1 \n",
    "    \n",
    "print(wordcount)\n",
    "\n",
    "\n",
    "### END CODE\n"
   ]
  },
  {
   "cell_type": "markdown",
   "metadata": {},
   "source": [
    "#### Exercise 9\n",
    "\n",
    "Write a python program to get text from the user. Create a new text from the original text with the word \" stranger \" inserted in the middle of the text. Print the resulting new text."
   ]
  },
  {
   "cell_type": "code",
   "execution_count": 26,
   "metadata": {},
   "outputs": [
    {
     "name": "stdout",
     "output_type": "stream",
     "text": [
      "Enter some text:blue man lives in a blue world\n",
      "Enter a search string:blue\n",
      "Stranger   man   lives   in   a   Stranger   world   "
     ]
    },
    {
     "data": {
      "text/plain": [
       "'Stranger man lives in a Stranger world'"
      ]
     },
     "execution_count": 26,
     "metadata": {},
     "output_type": "execute_result"
    }
   ],
   "source": [
    "### YOUR CODE GOES BELOW\n",
    "\n",
    "text = input(\"Enter some text:\")\n",
    "match = input(\"Enter a search string:\")\n",
    "\n",
    "for word in text.split():\n",
    "    if word == match:\n",
    "        print (\"Stranger\",\" \", end = \" \") #end = \" \" allows output to be horizontal\n",
    "        #text.replace(match,\"Stranger\")\n",
    "    else:\n",
    "        print (word,\" \", end = \" \")\n",
    "                       \n",
    "text.replace(match,\"Stranger\")\n",
    "\n",
    "### END CODE"
   ]
  },
  {
   "cell_type": "markdown",
   "metadata": {},
   "source": [
    "#### Exercise 10\n",
    "\n",
    "Write a python program to get a line of text from the user. Sort each word in the text alphabetically and print it out. \n",
    "\n",
    "For example, if the user enters \"Jack and Jill went up the hill\", the result should be \"and Jack Jill hill the up went\"\n"
   ]
  },
  {
   "cell_type": "code",
   "execution_count": 28,
   "metadata": {},
   "outputs": [
    {
     "name": "stdout",
     "output_type": "stream",
     "text": [
      "Enter a line of text: you coming at me bro\n",
      "The sorted words are: \n",
      "at bro coming me you "
     ]
    }
   ],
   "source": [
    "\n",
    "### inputs\n",
    "\n",
    "inputText = input(\"Enter a line of text: \")\n",
    "\n",
    "text = inputText.split()\n",
    "\n",
    "text.sort() #Sorts alphabetically\n",
    "\n",
    "print(\"The sorted words are: \")\n",
    "for i in text:\n",
    "   print(i, end = \" \")\n",
    "\n",
    "\n",
    "### END CODE\n"
   ]
  },
  {
   "cell_type": "code",
   "execution_count": null,
   "metadata": {
    "collapsed": true
   },
   "outputs": [],
   "source": []
  }
 ],
 "metadata": {
  "kernelspec": {
   "display_name": "Python 3",
   "language": "python",
   "name": "python3"
  },
  "language_info": {
   "codemirror_mode": {
    "name": "ipython",
    "version": 3
   },
   "file_extension": ".py",
   "mimetype": "text/x-python",
   "name": "python",
   "nbconvert_exporter": "python",
   "pygments_lexer": "ipython3",
   "version": "3.6.2"
  }
 },
 "nbformat": 4,
 "nbformat_minor": 2
}
